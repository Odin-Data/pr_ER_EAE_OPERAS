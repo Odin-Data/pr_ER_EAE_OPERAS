{
 "cells": [
  {
   "cell_type": "markdown",
   "id": "6f6386ae",
   "metadata": {
    "heading_collapsed": true,
    "id": "6f6386ae"
   },
   "source": [
    "# TEST ER: RESILIENCIA"
   ]
  },
  {
   "cell_type": "markdown",
   "id": "39652004",
   "metadata": {},
   "source": [
    "Análisis de resultados del test ER de Wagnild y Young"
   ]
  },
  {
   "cell_type": "markdown",
   "id": "3b51638f",
   "metadata": {
    "heading_collapsed": true,
    "id": "3b51638f"
   },
   "source": [
    "# IMPORTAR LIBRERIAS"
   ]
  },
  {
   "cell_type": "code",
   "execution_count": 4,
   "id": "ec958b0f",
   "metadata": {
    "hidden": true,
    "id": "ec958b0f"
   },
   "outputs": [],
   "source": [
    "import pandas as pd\n",
    "import numpy as np\n",
    "import matplotlib.pyplot as plt\n",
    "import pingouin as pg\n",
    "from scipy import stats\n",
    "from sklearn.preprocessing import StandardScaler\n",
    "from scipy.stats import levene\n",
    "import math as mt\n",
    "\n",
    "import warnings\n",
    "warnings.filterwarnings('ignore')\n",
    "\n",
    "# Definir el estilo de matplotlib\n",
    "plt.style.use('seaborn-v0_8-whitegrid')"
   ]
  },
  {
   "cell_type": "markdown",
   "id": "e4ceba8a",
   "metadata": {
    "id": "e4ceba8a"
   },
   "source": [
    "# CARGAR DATOS"
   ]
  },
  {
   "cell_type": "markdown",
   "id": "da25361d",
   "metadata": {
    "heading_collapsed": true
   },
   "source": [
    "## Google Colab"
   ]
  },
  {
   "cell_type": "code",
   "execution_count": 5,
   "id": "9RYAai0-jzM0",
   "metadata": {
    "colab": {
     "base_uri": "https://localhost:8080/"
    },
    "hidden": true,
    "id": "9RYAai0-jzM0",
    "outputId": "4b40344e-f1f2-4946-fbce-6f0a0879f369"
   },
   "outputs": [],
   "source": [
    "#Para montar Drive en Google Colab y poder acceder a los archivos.\n",
    "#from google.colab import drive\n",
    "#drive.mount('/content/gdrive')"
   ]
  },
  {
   "cell_type": "code",
   "execution_count": 6,
   "id": "oCrnqUuV0stG",
   "metadata": {
    "hidden": true,
    "id": "oCrnqUuV0stG"
   },
   "outputs": [],
   "source": [
    "#Indicar la ruta del archivo en Drive copiando el enlace desde colab.\n",
    "#archivo='/content/gdrive/MyDrive/...' Insertar aquí el enlace copiado\n",
    "#datos=pd.read_excel(archivo)"
   ]
  },
  {
   "cell_type": "markdown",
   "id": "3ccaba4a",
   "metadata": {},
   "source": [
    "## Local"
   ]
  },
  {
   "cell_type": "code",
   "execution_count": 7,
   "id": "c5b88a96",
   "metadata": {
    "colab": {
     "base_uri": "https://localhost:8080/",
     "height": 531
    },
    "id": "c5b88a96",
    "outputId": "60a9a437-bba3-4e2a-d0d2-a63d3a3bfdb4",
    "scrolled": true
   },
   "outputs": [
    {
     "data": {
      "text/html": [
       "<div>\n",
       "<style scoped>\n",
       "    .dataframe tbody tr th:only-of-type {\n",
       "        vertical-align: middle;\n",
       "    }\n",
       "\n",
       "    .dataframe tbody tr th {\n",
       "        vertical-align: top;\n",
       "    }\n",
       "\n",
       "    .dataframe thead th {\n",
       "        text-align: right;\n",
       "    }\n",
       "</style>\n",
       "<table border=\"1\" class=\"dataframe\">\n",
       "  <thead>\n",
       "    <tr style=\"text-align: right;\">\n",
       "      <th></th>\n",
       "      <th>ID</th>\n",
       "      <th>Hora d'inici</th>\n",
       "      <th>Hora de finalització</th>\n",
       "      <th>Correu</th>\n",
       "      <th>Nom</th>\n",
       "      <th>Punts totals</th>\n",
       "      <th>Comentaris del qüestionari</th>\n",
       "      <th>Hora de l'última modificació</th>\n",
       "      <th>Género</th>\n",
       "      <th>Punts: Género</th>\n",
       "      <th>...</th>\n",
       "      <th>Comentaris: No me lamento de las cosas por las que no puedo hacer nada.</th>\n",
       "      <th>Cuando estoy en una situación difícil generalmente encuentro salida.</th>\n",
       "      <th>Punts: Cuando estoy en una situación difícil generalmente encuentro salida.</th>\n",
       "      <th>Comentaris: Cuando estoy en una situación difícil generalmente encuentro salida.</th>\n",
       "      <th>Tengo la energía suficiente para hacer lo que debo hacer.</th>\n",
       "      <th>Punts: Tengo la energía suficiente para hacer lo que debo hacer.</th>\n",
       "      <th>Comentaris: Tengo la energía suficiente para hacer lo que debo hacer.</th>\n",
       "      <th>Acepto que hay personas a las que yo no les agrado.</th>\n",
       "      <th>Punts: Acepto que hay personas a las que yo no les agrado.</th>\n",
       "      <th>Comentaris: Acepto que hay personas a las que yo no les agrado.</th>\n",
       "    </tr>\n",
       "  </thead>\n",
       "  <tbody>\n",
       "    <tr>\n",
       "      <th>0</th>\n",
       "      <td>2</td>\n",
       "      <td>2024-02-23 16:34:38</td>\n",
       "      <td>2024-02-23 16:36:18</td>\n",
       "      <td>anonymous</td>\n",
       "      <td>NaN</td>\n",
       "      <td>NaN</td>\n",
       "      <td>NaN</td>\n",
       "      <td>NaN</td>\n",
       "      <td>Femenino</td>\n",
       "      <td>NaN</td>\n",
       "      <td>...</td>\n",
       "      <td>NaN</td>\n",
       "      <td>6</td>\n",
       "      <td>NaN</td>\n",
       "      <td>NaN</td>\n",
       "      <td>6</td>\n",
       "      <td>NaN</td>\n",
       "      <td>NaN</td>\n",
       "      <td>6</td>\n",
       "      <td>NaN</td>\n",
       "      <td>NaN</td>\n",
       "    </tr>\n",
       "    <tr>\n",
       "      <th>1</th>\n",
       "      <td>3</td>\n",
       "      <td>2024-02-25 15:05:56</td>\n",
       "      <td>2024-02-25 15:09:58</td>\n",
       "      <td>anonymous</td>\n",
       "      <td>NaN</td>\n",
       "      <td>NaN</td>\n",
       "      <td>NaN</td>\n",
       "      <td>NaN</td>\n",
       "      <td>Femenino</td>\n",
       "      <td>NaN</td>\n",
       "      <td>...</td>\n",
       "      <td>NaN</td>\n",
       "      <td>5</td>\n",
       "      <td>NaN</td>\n",
       "      <td>NaN</td>\n",
       "      <td>3</td>\n",
       "      <td>NaN</td>\n",
       "      <td>NaN</td>\n",
       "      <td>4</td>\n",
       "      <td>NaN</td>\n",
       "      <td>NaN</td>\n",
       "    </tr>\n",
       "    <tr>\n",
       "      <th>2</th>\n",
       "      <td>4</td>\n",
       "      <td>2024-02-25 15:12:04</td>\n",
       "      <td>2024-02-25 15:12:49</td>\n",
       "      <td>anonymous</td>\n",
       "      <td>NaN</td>\n",
       "      <td>NaN</td>\n",
       "      <td>NaN</td>\n",
       "      <td>NaN</td>\n",
       "      <td>Femenino</td>\n",
       "      <td>NaN</td>\n",
       "      <td>...</td>\n",
       "      <td>NaN</td>\n",
       "      <td>5</td>\n",
       "      <td>NaN</td>\n",
       "      <td>NaN</td>\n",
       "      <td>6</td>\n",
       "      <td>NaN</td>\n",
       "      <td>NaN</td>\n",
       "      <td>5</td>\n",
       "      <td>NaN</td>\n",
       "      <td>NaN</td>\n",
       "    </tr>\n",
       "    <tr>\n",
       "      <th>3</th>\n",
       "      <td>5</td>\n",
       "      <td>2024-02-25 15:09:04</td>\n",
       "      <td>2024-02-25 15:13:19</td>\n",
       "      <td>anonymous</td>\n",
       "      <td>NaN</td>\n",
       "      <td>NaN</td>\n",
       "      <td>NaN</td>\n",
       "      <td>NaN</td>\n",
       "      <td>Masculino</td>\n",
       "      <td>NaN</td>\n",
       "      <td>...</td>\n",
       "      <td>NaN</td>\n",
       "      <td>6</td>\n",
       "      <td>NaN</td>\n",
       "      <td>NaN</td>\n",
       "      <td>6</td>\n",
       "      <td>NaN</td>\n",
       "      <td>NaN</td>\n",
       "      <td>6</td>\n",
       "      <td>NaN</td>\n",
       "      <td>NaN</td>\n",
       "    </tr>\n",
       "    <tr>\n",
       "      <th>4</th>\n",
       "      <td>6</td>\n",
       "      <td>2024-02-25 15:16:38</td>\n",
       "      <td>2024-02-25 15:19:04</td>\n",
       "      <td>anonymous</td>\n",
       "      <td>NaN</td>\n",
       "      <td>NaN</td>\n",
       "      <td>NaN</td>\n",
       "      <td>NaN</td>\n",
       "      <td>Femenino</td>\n",
       "      <td>NaN</td>\n",
       "      <td>...</td>\n",
       "      <td>NaN</td>\n",
       "      <td>7</td>\n",
       "      <td>NaN</td>\n",
       "      <td>NaN</td>\n",
       "      <td>5</td>\n",
       "      <td>NaN</td>\n",
       "      <td>NaN</td>\n",
       "      <td>7</td>\n",
       "      <td>NaN</td>\n",
       "      <td>NaN</td>\n",
       "    </tr>\n",
       "  </tbody>\n",
       "</table>\n",
       "<p>5 rows × 102 columns</p>\n",
       "</div>"
      ],
      "text/plain": [
       "   ID        Hora d'inici Hora de finalització     Correu  Nom  Punts totals  \\\n",
       "0   2 2024-02-23 16:34:38  2024-02-23 16:36:18  anonymous  NaN           NaN   \n",
       "1   3 2024-02-25 15:05:56  2024-02-25 15:09:58  anonymous  NaN           NaN   \n",
       "2   4 2024-02-25 15:12:04  2024-02-25 15:12:49  anonymous  NaN           NaN   \n",
       "3   5 2024-02-25 15:09:04  2024-02-25 15:13:19  anonymous  NaN           NaN   \n",
       "4   6 2024-02-25 15:16:38  2024-02-25 15:19:04  anonymous  NaN           NaN   \n",
       "\n",
       "   Comentaris del qüestionari  Hora de l'última modificació     Género   \\\n",
       "0                         NaN                           NaN   Femenino    \n",
       "1                         NaN                           NaN   Femenino    \n",
       "2                         NaN                           NaN   Femenino    \n",
       "3                         NaN                           NaN  Masculino    \n",
       "4                         NaN                           NaN   Femenino    \n",
       "\n",
       "   Punts: Género   ...  \\\n",
       "0             NaN  ...   \n",
       "1             NaN  ...   \n",
       "2             NaN  ...   \n",
       "3             NaN  ...   \n",
       "4             NaN  ...   \n",
       "\n",
       "   Comentaris: No me lamento de las cosas por las que no puedo hacer nada.   \\\n",
       "0                                                NaN                          \n",
       "1                                                NaN                          \n",
       "2                                                NaN                          \n",
       "3                                                NaN                          \n",
       "4                                                NaN                          \n",
       "\n",
       "  Cuando estoy en una situación difícil generalmente encuentro salida.   \\\n",
       "0                                                  6                      \n",
       "1                                                  5                      \n",
       "2                                                  5                      \n",
       "3                                                  6                      \n",
       "4                                                  7                      \n",
       "\n",
       "   Punts: Cuando estoy en una situación difícil generalmente encuentro salida.   \\\n",
       "0                                                NaN                              \n",
       "1                                                NaN                              \n",
       "2                                                NaN                              \n",
       "3                                                NaN                              \n",
       "4                                                NaN                              \n",
       "\n",
       "   Comentaris: Cuando estoy en una situación difícil generalmente encuentro salida.   \\\n",
       "0                                                NaN                                   \n",
       "1                                                NaN                                   \n",
       "2                                                NaN                                   \n",
       "3                                                NaN                                   \n",
       "4                                                NaN                                   \n",
       "\n",
       "  Tengo la energía suficiente para hacer lo que debo hacer.  \\\n",
       "0                                                  6          \n",
       "1                                                  3          \n",
       "2                                                  6          \n",
       "3                                                  6          \n",
       "4                                                  5          \n",
       "\n",
       "   Punts: Tengo la energía suficiente para hacer lo que debo hacer.  \\\n",
       "0                                                NaN                  \n",
       "1                                                NaN                  \n",
       "2                                                NaN                  \n",
       "3                                                NaN                  \n",
       "4                                                NaN                  \n",
       "\n",
       "   Comentaris: Tengo la energía suficiente para hacer lo que debo hacer.  \\\n",
       "0                                                NaN                       \n",
       "1                                                NaN                       \n",
       "2                                                NaN                       \n",
       "3                                                NaN                       \n",
       "4                                                NaN                       \n",
       "\n",
       "  Acepto que hay personas a las que yo no les agrado.   \\\n",
       "0                                                  6     \n",
       "1                                                  4     \n",
       "2                                                  5     \n",
       "3                                                  6     \n",
       "4                                                  7     \n",
       "\n",
       "   Punts: Acepto que hay personas a las que yo no les agrado.   \\\n",
       "0                                                NaN             \n",
       "1                                                NaN             \n",
       "2                                                NaN             \n",
       "3                                                NaN             \n",
       "4                                                NaN             \n",
       "\n",
       "   Comentaris: Acepto que hay personas a las que yo no les agrado.   \n",
       "0                                                NaN                 \n",
       "1                                                NaN                 \n",
       "2                                                NaN                 \n",
       "3                                                NaN                 \n",
       "4                                                NaN                 \n",
       "\n",
       "[5 rows x 102 columns]"
      ]
     },
     "execution_count": 7,
     "metadata": {},
     "output_type": "execute_result"
    }
   ],
   "source": [
    "archivo='./Datasets/ESCALA DE RESILIENCIA DE AGNILD Y YOUNG. (1-92)_v1.xlsx'\n",
    "datos=pd.read_excel(archivo)\n",
    "\n",
    "#Visualizamos parte de los datos\n",
    "datos.head(5)"
   ]
  },
  {
   "cell_type": "markdown",
   "id": "100a6c0e",
   "metadata": {
    "heading_collapsed": true,
    "id": "100a6c0e"
   },
   "source": [
    "# LIMPIEZA DATOS"
   ]
  },
  {
   "cell_type": "markdown",
   "id": "3d590341",
   "metadata": {
    "hidden": true,
    "id": "3d590341"
   },
   "source": [
    "Al cargar el archivo se observan columnas que no aportan valor al análisis i se proceden a eliminar. Estas columnas se eliminan para este análisis pero no del archivo original. Por otro lado, remarcar que la columna sumatoria de puntaciones también se elimina i se generará una nueva a posteriori sobre un nuevo archivo .xlsx, no sobre el orginal."
   ]
  },
  {
   "cell_type": "code",
   "execution_count": 8,
   "id": "1c8a5123",
   "metadata": {
    "colab": {
     "base_uri": "https://localhost:8080/",
     "height": 0
    },
    "hidden": true,
    "id": "1c8a5123",
    "outputId": "78869df8-000c-42b2-8b47-82d69354143e",
    "scrolled": true
   },
   "outputs": [
    {
     "data": {
      "text/html": [
       "<div>\n",
       "<style scoped>\n",
       "    .dataframe tbody tr th:only-of-type {\n",
       "        vertical-align: middle;\n",
       "    }\n",
       "\n",
       "    .dataframe tbody tr th {\n",
       "        vertical-align: top;\n",
       "    }\n",
       "\n",
       "    .dataframe thead th {\n",
       "        text-align: right;\n",
       "    }\n",
       "</style>\n",
       "<table border=\"1\" class=\"dataframe\">\n",
       "  <thead>\n",
       "    <tr style=\"text-align: right;\">\n",
       "      <th></th>\n",
       "      <th>ID</th>\n",
       "      <th>Hora d'inici</th>\n",
       "      <th>Hora de finalització</th>\n",
       "      <th>Género</th>\n",
       "      <th>Edad</th>\n",
       "      <th>Ocupación actual</th>\n",
       "      <th>Cargo que realiza en su trabajo</th>\n",
       "      <th>Nivel de estudios alcanzados</th>\n",
       "      <th>Cuando planeo algo lo realizo</th>\n",
       "      <th>Generalmente me las arreglo de una manera u otra.</th>\n",
       "      <th>...</th>\n",
       "      <th>Por lo general, encuentro algo de qué reírme.</th>\n",
       "      <th>El creer en mí mismo me permite atravesar tiempos difíciles.</th>\n",
       "      <th>En una emergencia soy una persona en quien se puede confiar.</th>\n",
       "      <th>Generalmente puedo ver una situación de varias maneras.</th>\n",
       "      <th>Algunas veces me obligo a hacer cosas aunque no quiera.</th>\n",
       "      <th>Mi vida tiene significado.</th>\n",
       "      <th>No me lamento de las cosas por las que no puedo hacer nada.</th>\n",
       "      <th>Cuando estoy en una situación difícil generalmente encuentro salida.</th>\n",
       "      <th>Tengo la energía suficiente para hacer lo que debo hacer.</th>\n",
       "      <th>Acepto que hay personas a las que yo no les agrado.</th>\n",
       "    </tr>\n",
       "  </thead>\n",
       "  <tbody>\n",
       "    <tr>\n",
       "      <th>0</th>\n",
       "      <td>2</td>\n",
       "      <td>2024-02-23 16:34:38</td>\n",
       "      <td>2024-02-23 16:36:18</td>\n",
       "      <td>Femenino</td>\n",
       "      <td>18 - 25</td>\n",
       "      <td>Estudiante</td>\n",
       "      <td>NaN</td>\n",
       "      <td>Grado universitario</td>\n",
       "      <td>4</td>\n",
       "      <td>6</td>\n",
       "      <td>...</td>\n",
       "      <td>5</td>\n",
       "      <td>6</td>\n",
       "      <td>6</td>\n",
       "      <td>6</td>\n",
       "      <td>6</td>\n",
       "      <td>7</td>\n",
       "      <td>3</td>\n",
       "      <td>6</td>\n",
       "      <td>6</td>\n",
       "      <td>6</td>\n",
       "    </tr>\n",
       "    <tr>\n",
       "      <th>1</th>\n",
       "      <td>3</td>\n",
       "      <td>2024-02-25 15:05:56</td>\n",
       "      <td>2024-02-25 15:09:58</td>\n",
       "      <td>Femenino</td>\n",
       "      <td>18 - 25</td>\n",
       "      <td>Desempleado</td>\n",
       "      <td>NaN</td>\n",
       "      <td>Grado universitario</td>\n",
       "      <td>5</td>\n",
       "      <td>5</td>\n",
       "      <td>...</td>\n",
       "      <td>5</td>\n",
       "      <td>4</td>\n",
       "      <td>7</td>\n",
       "      <td>6</td>\n",
       "      <td>7</td>\n",
       "      <td>6</td>\n",
       "      <td>5</td>\n",
       "      <td>5</td>\n",
       "      <td>3</td>\n",
       "      <td>4</td>\n",
       "    </tr>\n",
       "    <tr>\n",
       "      <th>2</th>\n",
       "      <td>4</td>\n",
       "      <td>2024-02-25 15:12:04</td>\n",
       "      <td>2024-02-25 15:12:49</td>\n",
       "      <td>Femenino</td>\n",
       "      <td>18 - 25</td>\n",
       "      <td>Estudiante</td>\n",
       "      <td>NaN</td>\n",
       "      <td>Grado universitario</td>\n",
       "      <td>5</td>\n",
       "      <td>7</td>\n",
       "      <td>...</td>\n",
       "      <td>7</td>\n",
       "      <td>7</td>\n",
       "      <td>6</td>\n",
       "      <td>7</td>\n",
       "      <td>6</td>\n",
       "      <td>7</td>\n",
       "      <td>6</td>\n",
       "      <td>5</td>\n",
       "      <td>6</td>\n",
       "      <td>5</td>\n",
       "    </tr>\n",
       "    <tr>\n",
       "      <th>3</th>\n",
       "      <td>5</td>\n",
       "      <td>2024-02-25 15:09:04</td>\n",
       "      <td>2024-02-25 15:13:19</td>\n",
       "      <td>Masculino</td>\n",
       "      <td>18 - 25</td>\n",
       "      <td>Desempleado</td>\n",
       "      <td>NaN</td>\n",
       "      <td>Máster / Postgrado</td>\n",
       "      <td>6</td>\n",
       "      <td>6</td>\n",
       "      <td>...</td>\n",
       "      <td>7</td>\n",
       "      <td>6</td>\n",
       "      <td>6</td>\n",
       "      <td>6</td>\n",
       "      <td>6</td>\n",
       "      <td>6</td>\n",
       "      <td>6</td>\n",
       "      <td>6</td>\n",
       "      <td>6</td>\n",
       "      <td>6</td>\n",
       "    </tr>\n",
       "    <tr>\n",
       "      <th>4</th>\n",
       "      <td>6</td>\n",
       "      <td>2024-02-25 15:16:38</td>\n",
       "      <td>2024-02-25 15:19:04</td>\n",
       "      <td>Femenino</td>\n",
       "      <td>18 - 25</td>\n",
       "      <td>Estudiante</td>\n",
       "      <td>NaN</td>\n",
       "      <td>Bachiller</td>\n",
       "      <td>6</td>\n",
       "      <td>7</td>\n",
       "      <td>...</td>\n",
       "      <td>7</td>\n",
       "      <td>7</td>\n",
       "      <td>7</td>\n",
       "      <td>7</td>\n",
       "      <td>5</td>\n",
       "      <td>7</td>\n",
       "      <td>5</td>\n",
       "      <td>7</td>\n",
       "      <td>5</td>\n",
       "      <td>7</td>\n",
       "    </tr>\n",
       "  </tbody>\n",
       "</table>\n",
       "<p>5 rows × 33 columns</p>\n",
       "</div>"
      ],
      "text/plain": [
       "   ID        Hora d'inici Hora de finalització     Género      Edad  \\\n",
       "0   2 2024-02-23 16:34:38  2024-02-23 16:36:18   Femenino   18 - 25   \n",
       "1   3 2024-02-25 15:05:56  2024-02-25 15:09:58   Femenino   18 - 25   \n",
       "2   4 2024-02-25 15:12:04  2024-02-25 15:12:49   Femenino   18 - 25   \n",
       "3   5 2024-02-25 15:09:04  2024-02-25 15:13:19  Masculino   18 - 25   \n",
       "4   6 2024-02-25 15:16:38  2024-02-25 15:19:04   Femenino   18 - 25   \n",
       "\n",
       "  Ocupación actual Cargo que realiza en su trabajo   \\\n",
       "0       Estudiante                              NaN   \n",
       "1     Desempleado                               NaN   \n",
       "2       Estudiante                              NaN   \n",
       "3     Desempleado                               NaN   \n",
       "4       Estudiante                              NaN   \n",
       "\n",
       "  Nivel de estudios alcanzados Cuando planeo algo lo realizo  \\\n",
       "0          Grado universitario                             4   \n",
       "1          Grado universitario                             5   \n",
       "2          Grado universitario                             5   \n",
       "3           Máster / Postgrado                             6   \n",
       "4                    Bachiller                             6   \n",
       "\n",
       "  Generalmente me las arreglo de una manera u otra.     ...  \\\n",
       "0                                                  6    ...   \n",
       "1                                                  5    ...   \n",
       "2                                                  7    ...   \n",
       "3                                                  6    ...   \n",
       "4                                                  7    ...   \n",
       "\n",
       "  Por lo general, encuentro algo de qué reírme.   \\\n",
       "0                                              5   \n",
       "1                                              5   \n",
       "2                                              7   \n",
       "3                                              7   \n",
       "4                                              7   \n",
       "\n",
       "  El creer en mí mismo me permite atravesar tiempos difíciles.   \\\n",
       "0                                                  6              \n",
       "1                                                  4              \n",
       "2                                                  7              \n",
       "3                                                  6              \n",
       "4                                                  7              \n",
       "\n",
       "  En una emergencia soy una persona en quien se puede confiar.   \\\n",
       "0                                                  6              \n",
       "1                                                  7              \n",
       "2                                                  6              \n",
       "3                                                  6              \n",
       "4                                                  7              \n",
       "\n",
       "  Generalmente puedo ver una situación de varias maneras.   \\\n",
       "0                                                  6         \n",
       "1                                                  6         \n",
       "2                                                  7         \n",
       "3                                                  6         \n",
       "4                                                  7         \n",
       "\n",
       "  Algunas veces me obligo a hacer cosas aunque no quiera.   \\\n",
       "0                                                  6         \n",
       "1                                                  7         \n",
       "2                                                  6         \n",
       "3                                                  6         \n",
       "4                                                  5         \n",
       "\n",
       "  Mi vida tiene significado.   \\\n",
       "0                           7   \n",
       "1                           6   \n",
       "2                           7   \n",
       "3                           6   \n",
       "4                           7   \n",
       "\n",
       "  No me lamento de las cosas por las que no puedo hacer nada.   \\\n",
       "0                                                  3             \n",
       "1                                                  5             \n",
       "2                                                  6             \n",
       "3                                                  6             \n",
       "4                                                  5             \n",
       "\n",
       "  Cuando estoy en una situación difícil generalmente encuentro salida.   \\\n",
       "0                                                  6                      \n",
       "1                                                  5                      \n",
       "2                                                  5                      \n",
       "3                                                  6                      \n",
       "4                                                  7                      \n",
       "\n",
       "  Tengo la energía suficiente para hacer lo que debo hacer.  \\\n",
       "0                                                  6          \n",
       "1                                                  3          \n",
       "2                                                  6          \n",
       "3                                                  6          \n",
       "4                                                  5          \n",
       "\n",
       "  Acepto que hay personas a las que yo no les agrado.   \n",
       "0                                                  6    \n",
       "1                                                  4    \n",
       "2                                                  5    \n",
       "3                                                  6    \n",
       "4                                                  7    \n",
       "\n",
       "[5 rows x 33 columns]"
      ]
     },
     "execution_count": 8,
     "metadata": {},
     "output_type": "execute_result"
    }
   ],
   "source": [
    "datos.drop(datos.columns[[3,4,5,6,7,9,10,12,13,15,16,18,19,21,22,23,24,26,27,29,30,32,33,35,36,38,39,\n",
    "                          41,42,44,45,47,48,50,51,53,54,56,57,59,60,62,63,65,66,68,69,71,72,74,75,77,\n",
    "                          78,80,81,83,84,85,86,88,89,91,92,94,95,97,98,100,101]],axis=1,inplace=True)\n",
    "\n",
    "##Visualizamos parte de los datos\n",
    "datos.head(5)"
   ]
  },
  {
   "cell_type": "code",
   "execution_count": 9,
   "id": "af2354bf",
   "metadata": {
    "hidden": true,
    "id": "af2354bf"
   },
   "outputs": [],
   "source": [
    "#Eliminamos espacios delante y detrás del texto que conforma el nombre de las columnas\n",
    "datos.columns=datos.columns.str.strip()\n",
    "\n",
    "def eliminar_espacios_no_separables(valor):\n",
    "    if isinstance(valor, str):  # Verifica si el valor es una cadena de texto\n",
    "        return valor.replace('\\xa0', '').replace('\\n', '')  # Reemplaza '\\xa0' y '\\n'\n",
    "    return valor\n",
    "\n",
    "# Aplicar la función a cada valor del DataFrame\n",
    "datos = datos.applymap(eliminar_espacios_no_separables)"
   ]
  },
  {
   "cell_type": "markdown",
   "id": "c477e2f9",
   "metadata": {
    "hidden": true,
    "id": "c477e2f9"
   },
   "source": [
    "Revisem la tipologia de cada variable per poder treballar correctament. També podem veure a la columna 'Non-Null Count' el recompte dels valors nulls que troben a cada columna. Igualment aquest segon punt ho tractarem més endavant, aquí ens centrem en el tipus de variable columna 'Dtype'.\n",
    "\n",
    "- Com es pot observar de la columna 8 a 32 corresponents als 25 ítems del test de resiliencia, les variables estan definides com object i s'han de passar a numéric.\n",
    "- La resta de variables estan definides correctament."
   ]
  },
  {
   "cell_type": "markdown",
   "id": "31b4c175",
   "metadata": {
    "hidden": true,
    "id": "31b4c175"
   },
   "source": [
    "Revisión de la tipología de cada variable para poder trabajar correctamente. También se observa en la columna 'Non-Null Count' valors nulos en algunas columnas. El punto de valores nulos se trata más adelante.\n",
    "\n",
    "Columna 8 a 32 correspondientes a los 25 ítems del test ER, las variables esta definidas como object i tienen una escala de respuesta likert (de 1 a 7), por tanto, se transforman a númericas."
   ]
  },
  {
   "cell_type": "code",
   "execution_count": 10,
   "id": "7daf0730",
   "metadata": {
    "colab": {
     "base_uri": "https://localhost:8080/"
    },
    "hidden": true,
    "id": "7daf0730",
    "outputId": "f65508c0-35dc-420a-b7e7-f789939f739a"
   },
   "outputs": [
    {
     "name": "stdout",
     "output_type": "stream",
     "text": [
      "<class 'pandas.core.frame.DataFrame'>\n",
      "RangeIndex: 92 entries, 0 to 91\n",
      "Data columns (total 33 columns):\n",
      " #   Column                                                                       Non-Null Count  Dtype         \n",
      "---  ------                                                                       --------------  -----         \n",
      " 0   ID                                                                           92 non-null     int64         \n",
      " 1   Hora d'inici                                                                 92 non-null     datetime64[ns]\n",
      " 2   Hora de finalització                                                         92 non-null     datetime64[ns]\n",
      " 3   Género                                                                       92 non-null     object        \n",
      " 4   Edad                                                                         92 non-null     object        \n",
      " 5   Ocupación actual                                                             92 non-null     object        \n",
      " 6   Cargo que realiza en su trabajo                                              51 non-null     object        \n",
      " 7   Nivel de estudios alcanzados                                                 92 non-null     object        \n",
      " 8   Cuando planeo algo lo realizo                                                92 non-null     object        \n",
      " 9   Generalmente me las arreglo de una manera u otra.                            92 non-null     object        \n",
      " 10  Dependo más de mí mismo que de otras personas.                               92 non-null     object        \n",
      " 11  Es importante para mí mantenerme interesado en las cosas.                    91 non-null     object        \n",
      " 12  Puedo estar solo si tengo que hacerlo.                                       92 non-null     object        \n",
      " 13  Me siento orgulloso de haber logrado cosas en mi vida.                       92 non-null     object        \n",
      " 14  Usualmente veo las cosas a largo plazo.                                      92 non-null     object        \n",
      " 15  Soy amigo de  mí mismo.                                                      92 non-null     object        \n",
      " 16  Siento que puedo manejar varias cosas al mismo tiempo.                       92 non-null     object        \n",
      " 17  Soy decidida.                                                                91 non-null     object        \n",
      " 18  Rara vez me pregunto cuál es la finalidad de todo.                           91 non-null     object        \n",
      " 19  Tomo las cosas una por  una.                                                 92 non-null     object        \n",
      " 20  Puedo enfrentar las dificultades porque las he experimentado anteriormente.  92 non-null     object        \n",
      " 21  Tengo autodisciplina.                                                        92 non-null     object        \n",
      " 22  Me mantengo interesando en las cosas.                                        92 non-null     object        \n",
      " 23  Por lo general, encuentro algo de qué reírme.                                91 non-null     object        \n",
      " 24  El creer en mí mismo me permite atravesar tiempos difíciles.                 91 non-null     object        \n",
      " 25  En una emergencia soy una persona en quien se puede confiar.                 92 non-null     object        \n",
      " 26  Generalmente puedo ver una situación de varias maneras.                      92 non-null     object        \n",
      " 27  Algunas veces me obligo a hacer cosas aunque no quiera.                      92 non-null     object        \n",
      " 28  Mi vida tiene significado.                                                   92 non-null     object        \n",
      " 29  No me lamento de las cosas por las que no puedo hacer nada.                  92 non-null     object        \n",
      " 30  Cuando estoy en una situación difícil generalmente encuentro salida.         92 non-null     object        \n",
      " 31  Tengo la energía suficiente para hacer lo que debo hacer.                    92 non-null     object        \n",
      " 32  Acepto que hay personas a las que yo no les agrado.                          92 non-null     object        \n",
      "dtypes: datetime64[ns](2), int64(1), object(30)\n",
      "memory usage: 23.8+ KB\n"
     ]
    }
   ],
   "source": [
    "datos.info()"
   ]
  },
  {
   "cell_type": "markdown",
   "id": "ba52265d",
   "metadata": {
    "heading_collapsed": true,
    "hidden": true,
    "id": "ba52265d"
   },
   "source": [
    "## TRATAMIENTO VALORES NULLS"
   ]
  },
  {
   "cell_type": "markdown",
   "id": "ce48d7af",
   "metadata": {
    "hidden": true,
    "id": "ce48d7af"
   },
   "source": [
    "Como se ha visto anteriormente se ha detectado algun valor nulo en la respuesta de alguno de los ítems. Los siguientes ítems presentan 1 valor nulo:\n",
    "- Es importante para mí mantenerme interesado en las cosas.   \n",
    "- Soy decidida.  \n",
    "- Rara vez me pregunto cuál es la finalidad de todo.\n",
    "- Por lo general, encuentro algo de qué reírme.\n",
    "- El creer en mí mismo me permite atravesar tiempos difíciles.\n",
    "\n",
    "Por otro lado, al revisar el archivo original también se encuentran 41 valores nulos en la variable 'Cargo que realiza en su trabajo' dado que los individus desempleados y estudiantes no rellenaban esta respuesta. En este caso, se ha añadido directamente sobre el archivo original directamente estos valores de desempleado o estudiante."
   ]
  },
  {
   "cell_type": "code",
   "execution_count": 11,
   "id": "eae5181b",
   "metadata": {
    "colab": {
     "base_uri": "https://localhost:8080/"
    },
    "hidden": true,
    "id": "eae5181b",
    "outputId": "2e24f79f-8cec-489c-c819-244f9e483469"
   },
   "outputs": [
    {
     "data": {
      "text/plain": [
       "ID                                                                              0\n",
       "Hora d'inici                                                                    0\n",
       "Hora de finalització                                                            0\n",
       "Género                                                                          0\n",
       "Edad                                                                            0\n",
       "Ocupación actual                                                                0\n",
       "Cargo que realiza en su trabajo                                                41\n",
       "Nivel de estudios alcanzados                                                    0\n",
       "Cuando planeo algo lo realizo                                                   0\n",
       "Generalmente me las arreglo de una manera u otra.                               0\n",
       "Dependo más de mí mismo que de otras personas.                                  0\n",
       "Es importante para mí mantenerme interesado en las cosas.                       1\n",
       "Puedo estar solo si tengo que hacerlo.                                          0\n",
       "Me siento orgulloso de haber logrado cosas en mi vida.                          0\n",
       "Usualmente veo las cosas a largo plazo.                                         0\n",
       "Soy amigo de  mí mismo.                                                         0\n",
       "Siento que puedo manejar varias cosas al mismo tiempo.                          0\n",
       "Soy decidida.                                                                   1\n",
       "Rara vez me pregunto cuál es la finalidad de todo.                              1\n",
       "Tomo las cosas una por  una.                                                    0\n",
       "Puedo enfrentar las dificultades porque las he experimentado anteriormente.     0\n",
       "Tengo autodisciplina.                                                           0\n",
       "Me mantengo interesando en las cosas.                                           0\n",
       "Por lo general, encuentro algo de qué reírme.                                   1\n",
       "El creer en mí mismo me permite atravesar tiempos difíciles.                    1\n",
       "En una emergencia soy una persona en quien se puede confiar.                    0\n",
       "Generalmente puedo ver una situación de varias maneras.                         0\n",
       "Algunas veces me obligo a hacer cosas aunque no quiera.                         0\n",
       "Mi vida tiene significado.                                                      0\n",
       "No me lamento de las cosas por las que no puedo hacer nada.                     0\n",
       "Cuando estoy en una situación difícil generalmente encuentro salida.            0\n",
       "Tengo la energía suficiente para hacer lo que debo hacer.                       0\n",
       "Acepto que hay personas a las que yo no les agrado.                             0\n",
       "dtype: int64"
      ]
     },
     "execution_count": 11,
     "metadata": {},
     "output_type": "execute_result"
    }
   ],
   "source": [
    "#Recuento valores nulos por cada columna/variable\n",
    "datos.isna().sum()"
   ]
  },
  {
   "cell_type": "markdown",
   "id": "13396a2d",
   "metadata": {
    "heading_collapsed": true,
    "hidden": true,
    "id": "13396a2d"
   },
   "source": [
    "### Identificación individuos con ítems nulos\n",
    "\n",
    "Las columnas del archivo que contienen valores nulos son los números de columna 11, 17, 18 , 23, 24. A continuación, se identifican estos individuos."
   ]
  },
  {
   "cell_type": "code",
   "execution_count": 12,
   "id": "2b0029ca",
   "metadata": {
    "colab": {
     "base_uri": "https://localhost:8080/"
    },
    "hidden": true,
    "id": "2b0029ca",
    "outputId": "2a5a9958-9cd3-4e9b-a6cc-514efc88cd42"
   },
   "outputs": [
    {
     "name": "stdout",
     "output_type": "stream",
     "text": [
      "ID                                                                                                  29\n",
      "Hora d'inici                                                                       2024-02-26 18:45:36\n",
      "Hora de finalització                                                               2024-02-26 18:52:08\n",
      "Género                                                                                        Femenino\n",
      "Edad                                                                                           36 - 45\n",
      "Ocupación actual                                                               Estudiante + trabajador\n",
      "Cargo que realiza en su trabajo                                                               Empleado\n",
      "Nivel de estudios alcanzados                                                    Grado medio / superior\n",
      "Cuando planeo algo lo realizo                                                                        2\n",
      "Generalmente me las arreglo de una manera u otra.                                                    5\n",
      "Dependo más de mí mismo que de otras personas.                                                       7\n",
      "Es importante para mí mantenerme interesado en las cosas.                                          NaN\n",
      "Puedo estar solo si tengo que hacerlo.                                                               7\n",
      "Me siento orgulloso de haber logrado cosas en mi vida.                                               5\n",
      "Usualmente veo las cosas a largo plazo.                                                              3\n",
      "Soy amigo de  mí mismo.                                                                              3\n",
      "Siento que puedo manejar varias cosas al mismo tiempo.                                               7\n",
      "Soy decidida.                                                                                        5\n",
      "Rara vez me pregunto cuál es la finalidad de todo.                                                   5\n",
      "Tomo las cosas una por  una.                                                                         2\n",
      "Puedo enfrentar las dificultades porque las he experimentado anteriormente.                          7\n",
      "Tengo autodisciplina.                                                                                2\n",
      "Me mantengo interesando en las cosas.                                                                3\n",
      "Por lo general, encuentro algo de qué reírme.                                                        5\n",
      "El creer en mí mismo me permite atravesar tiempos difíciles.                                         5\n",
      "En una emergencia soy una persona en quien se puede confiar.                                         7\n",
      "Generalmente puedo ver una situación de varias maneras.                                              7\n",
      "Algunas veces me obligo a hacer cosas aunque no quiera.                                              7\n",
      "Mi vida tiene significado.                                                                           3\n",
      "No me lamento de las cosas por las que no puedo hacer nada.                                          4\n",
      "Cuando estoy en una situación difícil generalmente encuentro salida.                                 6\n",
      "Tengo la energía suficiente para hacer lo que debo hacer.                                            6\n",
      "Acepto que hay personas a las que yo no les agrado.                                                  6\n",
      "Name: 27, dtype: object\n",
      "-----------\n",
      "ID                                                                                                   9\n",
      "Hora d'inici                                                                       2024-02-25 16:18:15\n",
      "Hora de finalització                                                               2024-02-25 16:21:41\n",
      "Género                                                                                        Femenino\n",
      "Edad                                                                                           26 - 35\n",
      "Ocupación actual                                                               Estudiante + trabajador\n",
      "Cargo que realiza en su trabajo                                                               Empleado\n",
      "Nivel de estudios alcanzados                                                    Grado medio / superior\n",
      "Cuando planeo algo lo realizo                                                                        4\n",
      "Generalmente me las arreglo de una manera u otra.                                                    7\n",
      "Dependo más de mí mismo que de otras personas.                                                       5\n",
      "Es importante para mí mantenerme interesado en las cosas.                                            6\n",
      "Puedo estar solo si tengo que hacerlo.                                                               6\n",
      "Me siento orgulloso de haber logrado cosas en mi vida.                                               6\n",
      "Usualmente veo las cosas a largo plazo.                                                              5\n",
      "Soy amigo de  mí mismo.                                                                              5\n",
      "Siento que puedo manejar varias cosas al mismo tiempo.                                               5\n",
      "Soy decidida.                                                                                      NaN\n",
      "Rara vez me pregunto cuál es la finalidad de todo.                                                   5\n",
      "Tomo las cosas una por  una.                                                                         3\n",
      "Puedo enfrentar las dificultades porque las he experimentado anteriormente.                          6\n",
      "Tengo autodisciplina.                                                                                2\n",
      "Me mantengo interesando en las cosas.                                                                4\n",
      "Por lo general, encuentro algo de qué reírme.                                                        7\n",
      "El creer en mí mismo me permite atravesar tiempos difíciles.                                         6\n",
      "En una emergencia soy una persona en quien se puede confiar.                                         7\n",
      "Generalmente puedo ver una situación de varias maneras.                                              6\n",
      "Algunas veces me obligo a hacer cosas aunque no quiera.                                              5\n",
      "Mi vida tiene significado.                                                                           5\n",
      "No me lamento de las cosas por las que no puedo hacer nada.                                          4\n",
      "Cuando estoy en una situación difícil generalmente encuentro salida.                                 4\n",
      "Tengo la energía suficiente para hacer lo que debo hacer.                                            2\n",
      "Acepto que hay personas a las que yo no les agrado.                                                  6\n",
      "Name: 7, dtype: object\n",
      "-----------\n",
      "ID                                                                                              14\n",
      "Hora d'inici                                                                   2024-02-26 08:44:37\n",
      "Hora de finalització                                                           2024-02-26 08:45:55\n",
      "Género                                                                                    Femenino\n",
      "Edad                                                                                       46 - 55\n",
      "Ocupación actual                                                                          Empleado\n",
      "Cargo que realiza en su trabajo                                                         Supervisor\n",
      "Nivel de estudios alcanzados                                                    Máster / Postgrado\n",
      "Cuando planeo algo lo realizo                                                                    4\n",
      "Generalmente me las arreglo de una manera u otra.                                                6\n",
      "Dependo más de mí mismo que de otras personas.                                                   4\n",
      "Es importante para mí mantenerme interesado en las cosas.                                        6\n",
      "Puedo estar solo si tengo que hacerlo.                                                           7\n",
      "Me siento orgulloso de haber logrado cosas en mi vida.                                           6\n",
      "Usualmente veo las cosas a largo plazo.                                                          5\n",
      "Soy amigo de  mí mismo.                                                                          7\n",
      "Siento que puedo manejar varias cosas al mismo tiempo.                                           6\n",
      "Soy decidida.                                                                                    4\n",
      "Rara vez me pregunto cuál es la finalidad de todo.                                             NaN\n",
      "Tomo las cosas una por  una.                                                                     4\n",
      "Puedo enfrentar las dificultades porque las he experimentado anteriormente.                      4\n",
      "Tengo autodisciplina.                                                                            2\n",
      "Me mantengo interesando en las cosas.                                                            4\n",
      "Por lo general, encuentro algo de qué reírme.                                                    7\n",
      "El creer en mí mismo me permite atravesar tiempos difíciles.                                     7\n",
      "En una emergencia soy una persona en quien se puede confiar.                                     7\n",
      "Generalmente puedo ver una situación de varias maneras.                                          6\n",
      "Algunas veces me obligo a hacer cosas aunque no quiera.                                          7\n",
      "Mi vida tiene significado.                                                                       7\n",
      "No me lamento de las cosas por las que no puedo hacer nada.                                      1\n",
      "Cuando estoy en una situación difícil generalmente encuentro salida.                             6\n",
      "Tengo la energía suficiente para hacer lo que debo hacer.                                        6\n",
      "Acepto que hay personas a las que yo no les agrado.                                              6\n",
      "Name: 12, dtype: object\n",
      "-----------\n",
      "ID                                                                                                  8\n",
      "Hora d'inici                                                                      2024-02-25 16:16:04\n",
      "Hora de finalització                                                              2024-02-25 16:19:03\n",
      "Género                                                                                       Femenino\n",
      "Edad                                                                                          46 - 55\n",
      "Ocupación actual                                                                             Empleado\n",
      "Cargo que realiza en su trabajo                                                        Gerente / Jefe\n",
      "Nivel de estudios alcanzados                                                   Grado medio / superior\n",
      "Cuando planeo algo lo realizo                                                                       3\n",
      "Generalmente me las arreglo de una manera u otra.                                                   5\n",
      "Dependo más de mí mismo que de otras personas.                                                      5\n",
      "Es importante para mí mantenerme interesado en las cosas.                                           4\n",
      "Puedo estar solo si tengo que hacerlo.                                                              5\n",
      "Me siento orgulloso de haber logrado cosas en mi vida.                                              4\n",
      "Usualmente veo las cosas a largo plazo.                                                             5\n",
      "Soy amigo de  mí mismo.                                                                             6\n",
      "Siento que puedo manejar varias cosas al mismo tiempo.                                              6\n",
      "Soy decidida.                                                                                       5\n",
      "Rara vez me pregunto cuál es la finalidad de todo.                                                  4\n",
      "Tomo las cosas una por  una.                                                                        5\n",
      "Puedo enfrentar las dificultades porque las he experimentado anteriormente.                         5\n",
      "Tengo autodisciplina.                                                                               4\n",
      "Me mantengo interesando en las cosas.                                                               4\n",
      "Por lo general, encuentro algo de qué reírme.                                                     NaN\n",
      "El creer en mí mismo me permite atravesar tiempos difíciles.                                        5\n",
      "En una emergencia soy una persona en quien se puede confiar.                                        6\n",
      "Generalmente puedo ver una situación de varias maneras.                                             6\n",
      "Algunas veces me obligo a hacer cosas aunque no quiera.                                             6\n",
      "Mi vida tiene significado.                                                                          4\n",
      "No me lamento de las cosas por las que no puedo hacer nada.                                         5\n",
      "Cuando estoy en una situación difícil generalmente encuentro salida.                                5\n",
      "Tengo la energía suficiente para hacer lo que debo hacer.                                           4\n",
      "Acepto que hay personas a las que yo no les agrado.                                                 5\n",
      "Name: 6, dtype: object\n",
      "-----------\n",
      "ID                                                                                              16\n",
      "Hora d'inici                                                                   2024-02-26 09:01:00\n",
      "Hora de finalització                                                           2024-02-26 09:07:45\n",
      "Género                                                                                   Masculino\n",
      "Edad                                                                                       18 - 25\n",
      "Ocupación actual                                                                       Desempleado\n",
      "Cargo que realiza en su trabajo                                                                NaN\n",
      "Nivel de estudios alcanzados                                                   Grado universitario\n",
      "Cuando planeo algo lo realizo                                                                    6\n",
      "Generalmente me las arreglo de una manera u otra.                                                7\n",
      "Dependo más de mí mismo que de otras personas.                                                   6\n",
      "Es importante para mí mantenerme interesado en las cosas.                                        6\n",
      "Puedo estar solo si tengo que hacerlo.                                                           7\n",
      "Me siento orgulloso de haber logrado cosas en mi vida.                                           4\n",
      "Usualmente veo las cosas a largo plazo.                                                          4\n",
      "Soy amigo de  mí mismo.                                                                          4\n",
      "Siento que puedo manejar varias cosas al mismo tiempo.                                           6\n",
      "Soy decidida.                                                                                    6\n",
      "Rara vez me pregunto cuál es la finalidad de todo.                                               6\n",
      "Tomo las cosas una por  una.                                                                     6\n",
      "Puedo enfrentar las dificultades porque las he experimentado anteriormente.                      7\n",
      "Tengo autodisciplina.                                                                            4\n",
      "Me mantengo interesando en las cosas.                                                            5\n",
      "Por lo general, encuentro algo de qué reírme.                                                    7\n",
      "El creer en mí mismo me permite atravesar tiempos difíciles.                                   NaN\n",
      "En una emergencia soy una persona en quien se puede confiar.                                     7\n",
      "Generalmente puedo ver una situación de varias maneras.                                          7\n",
      "Algunas veces me obligo a hacer cosas aunque no quiera.                                          7\n",
      "Mi vida tiene significado.                                                                       1\n",
      "No me lamento de las cosas por las que no puedo hacer nada.                                      1\n",
      "Cuando estoy en una situación difícil generalmente encuentro salida.                             7\n",
      "Tengo la energía suficiente para hacer lo que debo hacer.                                        7\n",
      "Acepto que hay personas a las que yo no les agrado.                                              7\n",
      "Name: 14, dtype: object\n",
      "-----------\n"
     ]
    }
   ],
   "source": [
    "columnas_nan=[11,17,18,23,24]\n",
    "\n",
    "for column in columnas_nan:\n",
    "    for indice_fila, fila in datos.iterrows():\n",
    "        if fila[datos.columns[column]] not in ['1','2','3','4','5','6','7']:\n",
    "            print(fila)\n",
    "            print('-----------')"
   ]
  },
  {
   "cell_type": "markdown",
   "id": "afca4896",
   "metadata": {
    "hidden": true,
    "id": "afca4896"
   },
   "source": [
    "### Imputación valores nulos"
   ]
  },
  {
   "cell_type": "markdown",
   "id": "9e02e5ec",
   "metadata": {
    "hidden": true,
    "id": "9e02e5ec"
   },
   "source": [
    "Antes de realizar la imputación de los valores nulos, se realiza una transformación de los valores como string presentes en los ítems afectados por valores nulos para transformarlos a numéricos y, de éste modo, poder calcular la media del valor de cada ítem afectado por valor nulo para poder imputarlo."
   ]
  },
  {
   "cell_type": "code",
   "execution_count": 13,
   "id": "7b277014",
   "metadata": {
    "hidden": true,
    "id": "7b277014"
   },
   "outputs": [],
   "source": [
    "#Transformación de los valores string por numéricos.\n",
    "\n",
    "columnas_nan_nom=['Es importante para mí mantenerme interesado en las cosas.',\n",
    "    'Soy decidida.',\n",
    "    'Rara vez me pregunto cuál es la finalidad de todo.',\n",
    "    'Por lo general, encuentro algo de qué reírme.',\n",
    "    'El creer en mí mismo me permite atravesar tiempos difíciles.']\n",
    "\n",
    "\n",
    "for column in columnas_nan_nom:\n",
    "    datos[column]=datos[column].replace({'1': 1,'2': 2,'3': 3,'4': 4,'5': 5,'6': 6,'7': 7})\n"
   ]
  },
  {
   "cell_type": "code",
   "execution_count": 14,
   "id": "a8b50593",
   "metadata": {
    "hidden": true,
    "id": "a8b50593"
   },
   "outputs": [],
   "source": [
    "def ImputacionCuant(var, tipo):\n",
    "    \"\"\"\n",
    "    Esta función realiza la imputación de valores faltantes en una variable cuantitativa.\n",
    "\n",
    "    Datos de entrada:\n",
    "    - var: Serie de datos cuantitativos con valores faltantes a imputar.\n",
    "    - tipo: Tipo de imputación ('media', 'mediana' o 'aleatorio').\n",
    "\n",
    "    Datos de salida:\n",
    "    - Una nueva serie con valores faltantes imputados.\n",
    "    \"\"\"\n",
    "\n",
    "    # Realiza una copia de la variable para evitar modificar la original\n",
    "    vv = var.copy()\n",
    "\n",
    "    if tipo == 'media':\n",
    "        # Imputa los valores faltantes con la media de la variable\n",
    "        vv[np.isnan(vv)] = round(np.nanmean(vv), 0)\n",
    "    elif tipo == 'mediana':\n",
    "        # Imputa los valores faltantes con la mediana de la variable\n",
    "        vv[np.isnan(vv)] = round(np.nanmedian(vv), 0)\n",
    "    elif tipo == 'aleatorio':\n",
    "        # Imputa los valores faltantes de manera aleatoria basada en la distribución de valores existentes\n",
    "        x = vv[~np.isnan(vv)]\n",
    "        frec = x.value_counts(normalize=True).reset_index()\n",
    "        frec.columns = ['Valor', 'Frec']\n",
    "        frec = frec.sort_values(by='Valor')\n",
    "        frec['FrecAcum'] = frec['Frec'].cumsum()\n",
    "        random_values = np.random.uniform(min(frec['FrecAcum']), 1, np.sum(np.isnan(vv)))\n",
    "        imputed_values = list(map(lambda x: list(frec['Valor'][frec['FrecAcum'] <= x])[-1], random_values))\n",
    "        vv[np.isnan(vv)] = [round(x, 4) for x in imputed_values]\n",
    "\n",
    "    return vv"
   ]
  },
  {
   "cell_type": "code",
   "execution_count": 15,
   "id": "5ef9cc72",
   "metadata": {
    "hidden": true,
    "id": "5ef9cc72"
   },
   "outputs": [],
   "source": [
    "#Llamamos a la función anterior para imputar la media en cada valor nulo de cada columna afectada\n",
    "for column in columnas_nan_nom:\n",
    "    datos[column] = ImputacionCuant(datos[column], 'media')"
   ]
  },
  {
   "cell_type": "code",
   "execution_count": 16,
   "id": "a51d8dc8",
   "metadata": {
    "colab": {
     "base_uri": "https://localhost:8080/"
    },
    "hidden": true,
    "id": "a51d8dc8",
    "outputId": "b7201cbf-34a1-4730-895c-d29dce6fe4da"
   },
   "outputs": [
    {
     "name": "stdout",
     "output_type": "stream",
     "text": [
      "<class 'pandas.core.frame.DataFrame'>\n",
      "RangeIndex: 92 entries, 0 to 91\n",
      "Data columns (total 33 columns):\n",
      " #   Column                                                                       Non-Null Count  Dtype         \n",
      "---  ------                                                                       --------------  -----         \n",
      " 0   ID                                                                           92 non-null     int64         \n",
      " 1   Hora d'inici                                                                 92 non-null     datetime64[ns]\n",
      " 2   Hora de finalització                                                         92 non-null     datetime64[ns]\n",
      " 3   Género                                                                       92 non-null     object        \n",
      " 4   Edad                                                                         92 non-null     object        \n",
      " 5   Ocupación actual                                                             92 non-null     object        \n",
      " 6   Cargo que realiza en su trabajo                                              51 non-null     object        \n",
      " 7   Nivel de estudios alcanzados                                                 92 non-null     object        \n",
      " 8   Cuando planeo algo lo realizo                                                92 non-null     object        \n",
      " 9   Generalmente me las arreglo de una manera u otra.                            92 non-null     object        \n",
      " 10  Dependo más de mí mismo que de otras personas.                               92 non-null     object        \n",
      " 11  Es importante para mí mantenerme interesado en las cosas.                    92 non-null     float64       \n",
      " 12  Puedo estar solo si tengo que hacerlo.                                       92 non-null     object        \n",
      " 13  Me siento orgulloso de haber logrado cosas en mi vida.                       92 non-null     object        \n",
      " 14  Usualmente veo las cosas a largo plazo.                                      92 non-null     object        \n",
      " 15  Soy amigo de  mí mismo.                                                      92 non-null     object        \n",
      " 16  Siento que puedo manejar varias cosas al mismo tiempo.                       92 non-null     object        \n",
      " 17  Soy decidida.                                                                92 non-null     float64       \n",
      " 18  Rara vez me pregunto cuál es la finalidad de todo.                           92 non-null     float64       \n",
      " 19  Tomo las cosas una por  una.                                                 92 non-null     object        \n",
      " 20  Puedo enfrentar las dificultades porque las he experimentado anteriormente.  92 non-null     object        \n",
      " 21  Tengo autodisciplina.                                                        92 non-null     object        \n",
      " 22  Me mantengo interesando en las cosas.                                        92 non-null     object        \n",
      " 23  Por lo general, encuentro algo de qué reírme.                                92 non-null     float64       \n",
      " 24  El creer en mí mismo me permite atravesar tiempos difíciles.                 92 non-null     float64       \n",
      " 25  En una emergencia soy una persona en quien se puede confiar.                 92 non-null     object        \n",
      " 26  Generalmente puedo ver una situación de varias maneras.                      92 non-null     object        \n",
      " 27  Algunas veces me obligo a hacer cosas aunque no quiera.                      92 non-null     object        \n",
      " 28  Mi vida tiene significado.                                                   92 non-null     object        \n",
      " 29  No me lamento de las cosas por las que no puedo hacer nada.                  92 non-null     object        \n",
      " 30  Cuando estoy en una situación difícil generalmente encuentro salida.         92 non-null     object        \n",
      " 31  Tengo la energía suficiente para hacer lo que debo hacer.                    92 non-null     object        \n",
      " 32  Acepto que hay personas a las que yo no les agrado.                          92 non-null     object        \n",
      "dtypes: datetime64[ns](2), float64(5), int64(1), object(25)\n",
      "memory usage: 23.8+ KB\n"
     ]
    }
   ],
   "source": [
    "# Comprobamos que no existe ningún valor nulo\n",
    "datos.info()"
   ]
  },
  {
   "cell_type": "markdown",
   "id": "67e53960",
   "metadata": {
    "hidden": true,
    "id": "67e53960"
   },
   "source": [
    "## TRANSFORMACIÓN VARIABLES ÍTEMS A NUMÉRICO"
   ]
  },
  {
   "cell_type": "code",
   "execution_count": 17,
   "id": "3a0a7dcb",
   "metadata": {
    "hidden": true,
    "id": "3a0a7dcb"
   },
   "outputs": [],
   "source": [
    "#Transformación de las variables ítems a numérico.\n",
    "indices_columnas = [8,9,10,11,12,13,14,15,16,17,18,19,20,21,22,23,24,25,26,27,28,29,30,31,32]\n",
    "\n",
    "for i in indices_columnas:\n",
    "    datos[datos.columns[i]] = datos[datos.columns[i]].astype(int)"
   ]
  },
  {
   "cell_type": "markdown",
   "id": "1b0abf6d",
   "metadata": {
    "id": "1b0abf6d"
   },
   "source": [
    "# ANÁLISIS EXPLORATORI DE DATOS (EDA)"
   ]
  },
  {
   "cell_type": "code",
   "execution_count": 18,
   "id": "2ee88ccf",
   "metadata": {
    "colab": {
     "base_uri": "https://localhost:8080/",
     "height": 0
    },
    "id": "2ee88ccf",
    "outputId": "df927741-9514-42e4-a5f9-48a429837954"
   },
   "outputs": [
    {
     "data": {
      "image/png": "[encoded data removed]",
      "text/plain": [
       "<Figure size 800x600 with 1 Axes>"
      ]
     },
     "metadata": {},
     "output_type": "display_data"
    }
   ],
   "source": [
    "# Calcular la distribución de la columna categórica\n",
    "distribucion = datos['Género'].value_counts()\n",
    "\n",
    "# Crear un gráfico de pastel\n",
    "plt.figure(figsize=(8, 6))\n",
    "plt.pie(distribucion, labels=distribucion.index, autopct=lambda p: '{:.0f} ({:.1f}%)'.format(p * sum(distribucion) / 100, p),\n",
    "        startangle=90,colors=['skyblue', 'lightcoral'])\n",
    "\n",
    "    #El atributo autopct es para definir el texto de cada quesito. Cona la función lambda y p, con p estamos dando el porcentaje..\n",
    "    #..como entrada a la función lambda. Después definimos primero el formato y después el valor que queremos mostrar. Por ejemplo..\n",
    "    #.. '{:.0f}'' número decimal con 0 decimales y 'p * sum(distribucion) / 100' frecuencia absoluta de la distribución.\n",
    "    #El atributo startangle: define desde donde se inicia la primera porción, el ángulo.\n",
    "\n",
    "# Añadir título\n",
    "plt.title('DISTRIBUCIÓ GÈNERE: grup ER',fontsize=16)\n",
    "plt.show()"
   ]
  },
  {
   "cell_type": "code",
   "execution_count": 19,
   "id": "4a21cc48",
   "metadata": {
    "colab": {
     "base_uri": "https://localhost:8080/",
     "height": 0
    },
    "id": "4a21cc48",
    "outputId": "c93a7ca0-495d-4bea-8c3d-044d4036589b"
   },
   "outputs": [
    {
     "data": {
      "image/png": "[encoded data removed]",
      "text/plain": [
       "<Figure size 800x600 with 1 Axes>"
      ]
     },
     "metadata": {},
     "output_type": "display_data"
    }
   ],
   "source": [
    "# Calcular la distribución de la columna categórica\n",
    "distribucion = datos['Edad'].value_counts()\n",
    "\n",
    "\n",
    "# Lista de edades en el orden deseado\n",
    "lista_edad = ['18 - 25', '26 - 35', '36 - 45', '46 - 55', '56 - 65','']\n",
    "\n",
    "# Calcular la distribución de la columna categórica y ordenar según lista_edad\n",
    "distribucion = datos['Edad'].value_counts().reindex(lista_edad)\n",
    "\n",
    "\n",
    "# Crear un gráfico de barras\n",
    "plt.figure(figsize=(8, 6))\n",
    "ax = distribucion.plot(kind='bar', color='skyblue')\n",
    "\n",
    "# Añadir porcentaje encima de cada barra\n",
    "for p in ax.patches: #ax.patches itera sobre cada parche o barra\n",
    "    ax.annotate(f'{p.get_height()/len(datos)*100:.1f}% ({p.get_height()})', (p.get_x() + p.get_width() / 2., p.get_height()),\n",
    "                ha='center', va='bottom')\n",
    "\n",
    "    #p.get_height():altura de la barra o nombre d'observacions per cada categoria.\n",
    "    #(p.get_x() + p.get_width() / 2., p.get_height()): indica la posició on va situat cada text o en aquest cas, percentatge.\n",
    "    #ha='center': centra el text horizontalment sobre la barra.\n",
    "    #va='bottom': alinea el text a la part superior de la barra deixant un marge.\n",
    "\n",
    "# Añadir título y etiquetas\n",
    "plt.title('DISTRIBUCIÓ EDAT: grup ER',fontsize=16)\n",
    "plt.xlabel('Edat')\n",
    "plt.xticks(rotation=0) # Aquí puedes ajustar el ángulo de rotación, 0 grados mantendrá las etiquetas horizontales\n",
    "\n",
    "# Mostrar el gráfico\n",
    "plt.show()"
   ]
  },
  {
   "cell_type": "code",
   "execution_count": 20,
   "id": "7a1a0e28",
   "metadata": {
    "colab": {
     "base_uri": "https://localhost:8080/",
     "height": 0
    },
    "id": "7a1a0e28",
    "outputId": "5f0a6563-ebd8-4882-c191-fd014e59cb39"
   },
   "outputs": [
    {
     "data": {
      "image/png": "[encoded data removed]",
      "text/plain": [
       "<Figure size 800x600 with 1 Axes>"
      ]
     },
     "metadata": {},
     "output_type": "display_data"
    }
   ],
   "source": [
    "# Calcular la distribución de la columna categórica\n",
    "distribucion2 = datos['Ocupación actual'].value_counts()\n",
    "\n",
    "# Crear un gráfico de barras\n",
    "plt.figure(figsize=(8, 6))\n",
    "ax2 = distribucion2.plot(kind='bar', color='skyblue')\n",
    "\n",
    "# Añadir porcentaje encima de cada barra\n",
    "for p in ax2.patches: #ax.patches itera sobre cada parche o barra\n",
    "    ax2.annotate(f'{p.get_height()/len(datos)*100:.1f}% ({p.get_height()})', (p.get_x() + p.get_width() / 2., p.get_height()),\n",
    "                ha='center', va='bottom')\n",
    "\n",
    "# Añadir título y etiquetas\n",
    "plt.title('DISTRIBUCIÓ OCUPACIÓ: grup ER',fontsize=16)\n",
    "plt.xlabel('Ocupació actual ')\n",
    "\n",
    "plt.xticks(rotation=0)\n",
    "# Mostrar el gráfico\n",
    "plt.show()"
   ]
  },
  {
   "cell_type": "code",
   "execution_count": 21,
   "id": "a5d69904",
   "metadata": {
    "colab": {
     "base_uri": "https://localhost:8080/",
     "height": 0
    },
    "id": "a5d69904",
    "outputId": "aac4bb67-41d5-42e2-ed2c-681299c25b6d"
   },
   "outputs": [
    {
     "data": {
      "image/png": "[encoded data removed]",
      "text/plain": [
       "<Figure size 800x600 with 1 Axes>"
      ]
     },
     "metadata": {},
     "output_type": "display_data"
    }
   ],
   "source": [
    "# Calcular la distribución de la columna categórica\n",
    "distribucion3 = datos['Nivel de estudios alcanzados'].value_counts()\n",
    "\n",
    "# Crear un gráfico de barras\n",
    "plt.figure(figsize=(8, 6))\n",
    "ax3 = distribucion3.plot(kind='bar', color='skyblue')\n",
    "\n",
    "# Añadir porcentaje encima de cada barra\n",
    "for p in ax3.patches: #ax.patches itera sobre cada parche o barra\n",
    "    ax3.annotate(f'{p.get_height()/len(datos)*100:.1f}% ({p.get_height()})', (p.get_x() + p.get_width() / 2., p.get_height()),\n",
    "                ha='center', va='bottom')\n",
    "\n",
    "# Añadir título y etiquetas\n",
    "plt.title(\"DISTRIBUCIÓ NIVELL D'ESTUDIS: grup ER\",fontsize=16)\n",
    "plt.xlabel(\"Nivell d'estudis\")\n",
    "plt.xticks(rotation=90) #Per defecte\n",
    "# Mostrar el gráfico\n",
    "plt.show()"
   ]
  },
  {
   "cell_type": "markdown",
   "id": "365a05e7",
   "metadata": {
    "id": "365a05e7"
   },
   "source": [
    "Aquí se procede a aplicar una recategorización de esta variable explicativa por la baja representatividad de Primaria y Doctorado."
   ]
  },
  {
   "cell_type": "code",
   "execution_count": 22,
   "id": "78782938",
   "metadata": {
    "colab": {
     "base_uri": "https://localhost:8080/"
    },
    "id": "78782938",
    "outputId": "b1cf9ad9-bf62-424d-8a32-46b36c712427"
   },
   "outputs": [
    {
     "data": {
      "text/plain": [
       "array(['Grado universitario', 'Máster / Postgrado', 'Bachiller',\n",
       "       'Grado medio / superior', 'Doctorado', 'Primaria',\n",
       "       'ESO / Formación obligatoria'], dtype=object)"
      ]
     },
     "execution_count": 22,
     "metadata": {},
     "output_type": "execute_result"
    }
   ],
   "source": [
    "# Revisamos las categorias de esta variable\n",
    "datos['Nivel de estudios alcanzados'].unique()"
   ]
  },
  {
   "cell_type": "code",
   "execution_count": 23,
   "id": "513dc094",
   "metadata": {
    "id": "513dc094"
   },
   "outputs": [],
   "source": [
    "# Crear una nueva variable para aplicar la recategorización manteniendo la original\n",
    "datos['Nivel de estudios alcanzados 2'] = datos['Nivel de estudios alcanzados'].copy()\n",
    "datos['Nivel de estudios alcanzados 2'] = datos['Nivel de estudios alcanzados 2'].replace({\n",
    "                                                    'Grado universitario': 'Superior',\n",
    "                                                    'Grado medio / superior': 'Intermedia',\n",
    "                                                    'Bachiller':'Intermedia',\n",
    "                                                    'Máster / Postgrado':'Superior',\n",
    "                                                    'Doctorado':'Superior',\n",
    "                                                    'ESO / Formación obligatoria':'Obligatoria',\n",
    "                                                    'Primaria':'Obligatoria'})\n"
   ]
  },
  {
   "cell_type": "code",
   "execution_count": 24,
   "id": "49745d5e",
   "metadata": {
    "colab": {
     "base_uri": "https://localhost:8080/",
     "height": 0
    },
    "id": "49745d5e",
    "outputId": "34e609a2-20e1-4127-df38-97d4ecfed525"
   },
   "outputs": [
    {
     "data": {
      "image/png": "[encoded data removed]",
      "text/plain": [
       "<Figure size 800x600 with 1 Axes>"
      ]
     },
     "metadata": {},
     "output_type": "display_data"
    }
   ],
   "source": [
    "# Calcular la distribución de la columna categórica\n",
    "distribucion4 = datos['Nivel de estudios alcanzados 2'].value_counts()\n",
    "\n",
    "# Crear un gráfico de barras\n",
    "plt.figure(figsize=(8, 6))\n",
    "ax4 = distribucion4.plot(kind='bar', color='skyblue')\n",
    "\n",
    "# Añadir porcentaje encima de cada barra\n",
    "for p in ax4.patches: #ax.patches itera sobre cada parche o barra\n",
    "    ax4.annotate(f'{p.get_height()/len(datos)*100:.1f}% ({p.get_height()})', (p.get_x() + p.get_width() / 2., p.get_height()),\n",
    "                ha='center', va='bottom')\n",
    "\n",
    "# Añadir título y etiquetas\n",
    "plt.title('DISTRIBUCIÓ NIVELL ESTUDIS MODIFICAT: grup ER',fontsize=16)\n",
    "plt.xlabel('Càrrec actual')\n",
    "plt.xticks(rotation=0)  #Per defecte\n",
    "# Mostrar el gráfico\n",
    "plt.show()"
   ]
  },
  {
   "cell_type": "markdown",
   "id": "66176378",
   "metadata": {
    "id": "66176378"
   },
   "source": [
    "Nuevamente se procede a aplicar una recategorización de esta variable explicativa por la baja representatividad de muchas de sus categorias"
   ]
  },
  {
   "cell_type": "code",
   "execution_count": 25,
   "id": "0bf52199",
   "metadata": {},
   "outputs": [
    {
     "data": {
      "image/png": "[encoded data removed]",
      "text/plain": [
       "<Figure size 800x600 with 1 Axes>"
      ]
     },
     "metadata": {},
     "output_type": "display_data"
    }
   ],
   "source": [
    "# Calcular la distribución de la columna categórica\n",
    "distribucion4 = datos['Cargo que realiza en su trabajo'].value_counts()\n",
    "\n",
    "# Crear un gráfico de barras\n",
    "plt.figure(figsize=(8, 6))\n",
    "ax4 = distribucion4.plot(kind='bar', color='skyblue')\n",
    "\n",
    "# Añadir porcentaje encima de cada barra\n",
    "for p in ax4.patches: #ax.patches itera sobre cada parche o barra\n",
    "    ax4.annotate(f'{p.get_height()/len(datos)*100:.1f}% ({p.get_height()})', (p.get_x() + p.get_width() / 2., p.get_height()),\n",
    "                ha='center', va='bottom')\n",
    "\n",
    "# Añadir título y etiquetas\n",
    "plt.title('DISTRIBUCIÓ CÀRREC ACTUAL: grup ER',fontsize=16)\n",
    "plt.xlabel('Càrrec actual')\n",
    "plt.xticks(rotation=90) #Per defecte\n",
    "# Mostrar el gráfico\n",
    "plt.show()"
   ]
  },
  {
   "cell_type": "code",
   "execution_count": 26,
   "id": "f634fe83",
   "metadata": {
    "colab": {
     "base_uri": "https://localhost:8080/"
    },
    "id": "f634fe83",
    "outputId": "0e5e68ea-e176-4388-e6de-902bee9135aa"
   },
   "outputs": [
    {
     "data": {
      "text/plain": [
       "array([nan, 'Empleado', 'Gerente / Jefe', 'Supervisor',\n",
       "       'Jefe de departamento', 'Autónomo'], dtype=object)"
      ]
     },
     "execution_count": 26,
     "metadata": {},
     "output_type": "execute_result"
    }
   ],
   "source": [
    "# Revisamos las categorias de esta variable\n",
    "datos['Cargo que realiza en su trabajo'].unique()"
   ]
  },
  {
   "cell_type": "code",
   "execution_count": 27,
   "id": "fcc82e60",
   "metadata": {
    "id": "fcc82e60"
   },
   "outputs": [],
   "source": [
    "# Crear una nueva variable para aplicar la recategorización manteniendo la original\n",
    "datos['Cargo que realiza en su trabajo 2'] = datos['Cargo que realiza en su trabajo'].copy()\n",
    "datos['Cargo que realiza en su trabajo 2'] = datos['Cargo que realiza en su trabajo 2'].replace({\n",
    "    'Empleado': 'Empleado',\n",
    "    'Autónomo': 'Autónomo',\n",
    "    'Jefe de departamento': 'Responsable',  \n",
    "    'Supervisor': 'Responsable',\n",
    "    'Gerente / Jefe': 'Responsable'  \n",
    "})\n"
   ]
  },
  {
   "cell_type": "code",
   "execution_count": 28,
   "id": "8e284c12",
   "metadata": {},
   "outputs": [
    {
     "data": {
      "text/plain": [
       "array([nan, 'Empleado', 'Responsable', 'Autónomo'], dtype=object)"
      ]
     },
     "execution_count": 28,
     "metadata": {},
     "output_type": "execute_result"
    }
   ],
   "source": [
    "datos['Cargo que realiza en su trabajo 2'].unique()"
   ]
  },
  {
   "cell_type": "code",
   "execution_count": 29,
   "id": "36db722b",
   "metadata": {},
   "outputs": [
    {
     "data": {
      "image/png": "[encoded data removed]",
      "text/plain": [
       "<Figure size 800x600 with 1 Axes>"
      ]
     },
     "metadata": {},
     "output_type": "display_data"
    }
   ],
   "source": [
    "# Calcular la distribución de la columna categórica\n",
    "distribucion4 = datos['Cargo que realiza en su trabajo 2'].value_counts()\n",
    "\n",
    "# Crear un gráfico de barras\n",
    "plt.figure(figsize=(8, 6))\n",
    "ax4 = distribucion4.plot(kind='bar', color='skyblue')\n",
    "\n",
    "# Añadir porcentaje encima de cada barra\n",
    "for p in ax4.patches: #ax.patches itera sobre cada parche o barra\n",
    "    ax4.annotate(f'{p.get_height()/len(datos)*100:.1f}% ({p.get_height()})', (p.get_x() + p.get_width() / 2., p.get_height()),\n",
    "                ha='center', va='bottom')\n",
    "\n",
    "# Añadir título y etiquetas\n",
    "plt.title('DISTRIBUCIÓ CÀRREC ACTUAL MODIFICAT: grup ER',fontsize=16)\n",
    "plt.xlabel('Càrrec actual')\n",
    "plt.xticks(rotation=90) #Per defecte\n",
    "# Mostrar el gráfico\n",
    "plt.show()"
   ]
  },
  {
   "cell_type": "markdown",
   "id": "aeace78c",
   "metadata": {
    "id": "aeace78c"
   },
   "source": [
    "# CALCULO ER"
   ]
  },
  {
   "cell_type": "markdown",
   "id": "d893f6cd",
   "metadata": {
    "id": "d893f6cd"
   },
   "source": [
    "Realización de la medida de la escala de resiliencia de Wignald i Young, aplicando la suma de cada ítem por cada observación. Generar una nueva columna llamada Total"
   ]
  },
  {
   "cell_type": "code",
   "execution_count": 30,
   "id": "d1b43cba",
   "metadata": {
    "id": "d1b43cba"
   },
   "outputs": [],
   "source": [
    "# Índices de las columnas que deseas sumar\n",
    "columnas_a_sumar = [8,9,10,11,12,13,14,15,16,17,18,19,20,21,22,23,24,25,26,27,28,29,30,31,32]\n",
    "\n",
    "# Suma de las columnas específicas por registro o observación\n",
    "datos['Total'] = datos.iloc[:, columnas_a_sumar].sum(axis=1)"
   ]
  },
  {
   "cell_type": "markdown",
   "id": "24c79af6",
   "metadata": {
    "id": "24c79af6"
   },
   "source": [
    "Por otro lado, la escala ER presenta las siguientes dimensiones:\n",
    "- Confianza en sí mismo\n",
    "- Ecuanimidad\n",
    "- Perseverancia\n",
    "- Satisfacción personal\n",
    "- Sentirse bien solo\n",
    "\n",
    "Para poder evaluarlas se aplica también un sumatorio específico por los ítems asociados a cada componente.\n",
    "\n",
    "<img src=\"img/relacion_item_factor.png\" width=\"600\">\n",
    "\n"
   ]
  },
  {
   "cell_type": "code",
   "execution_count": 31,
   "id": "f0595f0d",
   "metadata": {
    "id": "f0595f0d"
   },
   "outputs": [],
   "source": [
    "# Definir las columnas que deseas sumar para cada nueva columna\n",
    "columnas_a_sumar = {\n",
    "    'Satisfacción personal': [23, 28, 29, 32],\n",
    "    'Ecuanimidad': [14, 15, 18, 19],\n",
    "    'Sentirse bien solo': [10, 12, 26],\n",
    "    'Confianza en sí mismo': [13, 16, 17, 20, 24, 25, 31],\n",
    "    'Perseverancia': [8, 9, 11, 21, 22, 27, 30]\n",
    "}\n",
    "\n",
    "# Iterar sobre el diccionario de columnas y calcular la suma para cada una agregando a la tabla.\n",
    "for nueva_columna, columnas_sumar in columnas_a_sumar.items():\n",
    "    datos[nueva_columna] =  datos.iloc[:, columnas_sumar].sum(axis=1)"
   ]
  },
  {
   "cell_type": "markdown",
   "id": "f90bb1f2",
   "metadata": {
    "id": "f90bb1f2"
   },
   "source": [
    "## GENERAR NUEVO EXCEL"
   ]
  },
  {
   "cell_type": "code",
   "execution_count": 32,
   "id": "f9f1b57e",
   "metadata": {
    "colab": {
     "base_uri": "https://localhost:8080/"
    },
    "id": "f9f1b57e",
    "outputId": "c92b75bd-d1df-40cc-fd55-a8d485b9e267"
   },
   "outputs": [
    {
     "name": "stdout",
     "output_type": "stream",
     "text": [
      "El archivo Tests_RESILIENCIA.xlsx ha sido creado exitosamente.\n"
     ]
    }
   ],
   "source": [
    "# Escribir el DataFrame a un archivo Excel\n",
    "filename = 'Tests_RESILIENCIA.xlsx'\n",
    "datos.to_excel(filename, index=False)\n",
    "print(f\"El archivo {filename} ha sido creado exitosamente.\")"
   ]
  },
  {
   "cell_type": "markdown",
   "id": "1dd11e62",
   "metadata": {
    "id": "1dd11e62"
   },
   "source": [
    "# RESULTADOS"
   ]
  },
  {
   "cell_type": "markdown",
   "id": "7aa02ee0",
   "metadata": {
    "id": "7aa02ee0"
   },
   "source": [
    "Primeramente, podemos observar cómo están distribuidos los resultados de nuestra escala de resiliencia aplicando análisis descriptivo y el histograma adjunto.\n",
    "\n",
    "- Podemos observar que presenta una asimetría de Fisher negativa, por lo tanto, nos indica que los resultados presentan más concentración a la izquierda de la media que a su derecha, y esto lo podemos contrastar con el histograma.\n",
    "- Por otro lado, el valor de curtosis positiva nos está indicando una distribución leptocúrtica, es decir, con una concentración de datos alrededor de las medidas centrales y sin excesivas datos en los extremos.\n",
    "- La desviación estándar es una medida de dispersión, por lo tanto, podemos observar cuánto se alejan los valores de la media en el conjunto de nuestros datos. No tenemos una desviación demasiado elevada, por lo tanto, no tenemos mucha dispersión en los datos y la mayoría se agrupa próxima a la media, tal y como nos indica la curtosis positiva."
   ]
  },
  {
   "cell_type": "code",
   "execution_count": 33,
   "id": "a0168665",
   "metadata": {},
   "outputs": [
    {
     "data": {
      "image/png": "[encoded data removed]",
      "text/plain": [
       "<Figure size 640x480 with 1 Axes>"
      ]
     },
     "metadata": {},
     "output_type": "display_data"
    }
   ],
   "source": [
    "# Crea el histograma y guarda los patches (barras)\n",
    "n, bins, patches = plt.hist(datos['Total'], bins=10, color='skyblue', edgecolor='black')\n",
    "\n",
    "media = datos['Total'].mean()\n",
    "\n",
    "# Agrega una línea discontinua en la posición de la media\n",
    "plt.axvline(x=media, color='red', linestyle='--', linewidth=2, label=f'Media = {media:.2f}')\n",
    "\n",
    "# Añade etiquetas y título\n",
    "plt.xlabel('Escala Resiliència')\n",
    "plt.title('ESCALA RESILIÈNCIA TOTAL', fontsize=16)\n",
    "\n",
    "# Añade números encima de cada barra\n",
    "for i in range(len(patches)):\n",
    "    height = patches[i].get_height()\n",
    "    plt.annotate(f'{int(height)}', xy=(patches[i].get_x() + patches[i].get_width() / 2, height), \n",
    "                 xytext=(0, 5), textcoords='offset points', ha='center', va='bottom')\n",
    "\n",
    "# Muestra el histograma\n",
    "plt.show()"
   ]
  },
  {
   "cell_type": "code",
   "execution_count": 34,
   "id": "a1fa5071",
   "metadata": {
    "colab": {
     "base_uri": "https://localhost:8080/",
     "height": 0
    },
    "id": "a1fa5071",
    "outputId": "1eb7832b-d078-4633-b332-2b1371394b1a"
   },
   "outputs": [
    {
     "data": {
      "image/png": "[encoded data removed]",
      "text/plain": [
       "<Figure size 640x480 with 1 Axes>"
      ]
     },
     "metadata": {},
     "output_type": "display_data"
    }
   ],
   "source": [
    "# Crea el histograma\n",
    "plt.hist(datos['Total'], bins=10, color='skyblue', edgecolor='black')\n",
    "\n",
    "media=datos['Total'].mean()\n",
    "\n",
    "# Agrega una línea discontinua en la posición de la media\n",
    "plt.axvline(x=media, color='red', linestyle='--', linewidth=2, label=f'Media = {media:.2f}')\n",
    "\n",
    "# Añade etiquetas y título\n",
    "plt.xlabel('Escala Resiliència')\n",
    "plt.title('ESCALA RESILIÈNCIA TOTAL',fontsize=16)\n",
    "\n",
    "# Muestra el histograma\n",
    "plt.show()"
   ]
  },
  {
   "cell_type": "code",
   "execution_count": 35,
   "id": "4fe89900",
   "metadata": {
    "colab": {
     "base_uri": "https://localhost:8080/",
     "height": 0
    },
    "id": "4fe89900",
    "outputId": "56d4badb-b61c-4440-c732-bbd6dca8b46c"
   },
   "outputs": [
    {
     "data": {
      "text/html": [
       "<div>\n",
       "<style scoped>\n",
       "    .dataframe tbody tr th:only-of-type {\n",
       "        vertical-align: middle;\n",
       "    }\n",
       "\n",
       "    .dataframe tbody tr th {\n",
       "        vertical-align: top;\n",
       "    }\n",
       "\n",
       "    .dataframe thead th {\n",
       "        text-align: right;\n",
       "    }\n",
       "</style>\n",
       "<table border=\"1\" class=\"dataframe\">\n",
       "  <thead>\n",
       "    <tr style=\"text-align: right;\">\n",
       "      <th></th>\n",
       "      <th>count</th>\n",
       "      <th>mean</th>\n",
       "      <th>std</th>\n",
       "      <th>min</th>\n",
       "      <th>25%</th>\n",
       "      <th>50%</th>\n",
       "      <th>75%</th>\n",
       "      <th>max</th>\n",
       "      <th>Asimetría</th>\n",
       "      <th>Kurtosis</th>\n",
       "      <th>Rango</th>\n",
       "    </tr>\n",
       "  </thead>\n",
       "  <tbody>\n",
       "    <tr>\n",
       "      <th>Total</th>\n",
       "      <td>92.0</td>\n",
       "      <td>133.413043</td>\n",
       "      <td>18.279967</td>\n",
       "      <td>60.0</td>\n",
       "      <td>123.75</td>\n",
       "      <td>138.5</td>\n",
       "      <td>145.0</td>\n",
       "      <td>168.0</td>\n",
       "      <td>-1.329471</td>\n",
       "      <td>3.176644</td>\n",
       "      <td>108</td>\n",
       "    </tr>\n",
       "  </tbody>\n",
       "</table>\n",
       "</div>"
      ],
      "text/plain": [
       "       count        mean        std   min     25%    50%    75%    max  \\\n",
       "Total   92.0  133.413043  18.279967  60.0  123.75  138.5  145.0  168.0   \n",
       "\n",
       "       Asimetría  Kurtosis  Rango  \n",
       "Total  -1.329471  3.176644    108  "
      ]
     },
     "execution_count": 35,
     "metadata": {},
     "output_type": "execute_result"
    }
   ],
   "source": [
    "def calcular_descriptivos(datos, columna):\n",
    "    # Crear DataFrame con las estadísticas descriptivas\n",
    "    descriptivos_num = pd.DataFrame(datos[columna]).describe().T\n",
    "\n",
    "    # Calcular y añadir la asimetría (skewness)\n",
    "    descriptivos_num[\"Asimetría\"] = datos[columna].skew()\n",
    "\n",
    "    # Calcular y añadir la curtosis (kurtosis)\n",
    "    descriptivos_num[\"Kurtosis\"] = datos[columna].kurtosis()\n",
    "\n",
    "    # Calcular y añadir el rango (range)\n",
    "    descriptivos_num[\"Rango\"] = np.ptp(datos[columna].dropna().values)\n",
    "\n",
    "    return descriptivos_num\n",
    "\n",
    "\n",
    "descriptivos = calcular_descriptivos(datos, 'Total')\n",
    "descriptivos"
   ]
  },
  {
   "cell_type": "code",
   "execution_count": 36,
   "id": "6b900e6e",
   "metadata": {
    "colab": {
     "base_uri": "https://localhost:8080/",
     "height": 0
    },
    "id": "6b900e6e",
    "outputId": "b44d665f-6c2b-4d07-d599-273133abd194"
   },
   "outputs": [
    {
     "data": {
      "text/html": [
       "<div>\n",
       "<style scoped>\n",
       "    .dataframe tbody tr th:only-of-type {\n",
       "        vertical-align: middle;\n",
       "    }\n",
       "\n",
       "    .dataframe tbody tr th {\n",
       "        vertical-align: top;\n",
       "    }\n",
       "\n",
       "    .dataframe thead th {\n",
       "        text-align: right;\n",
       "    }\n",
       "</style>\n",
       "<table border=\"1\" class=\"dataframe\">\n",
       "  <thead>\n",
       "    <tr style=\"text-align: right;\">\n",
       "      <th></th>\n",
       "      <th>Total</th>\n",
       "      <th>Ecuanimidad</th>\n",
       "      <th>Sentirse bien solo</th>\n",
       "      <th>Confianza en sí mismo</th>\n",
       "      <th>Perseverancia</th>\n",
       "      <th>Satisfacción personal</th>\n",
       "    </tr>\n",
       "  </thead>\n",
       "  <tbody>\n",
       "    <tr>\n",
       "      <th>Media</th>\n",
       "      <td>133.413043</td>\n",
       "      <td>18.836957</td>\n",
       "      <td>17.478261</td>\n",
       "      <td>37.858696</td>\n",
       "      <td>37.913043</td>\n",
       "      <td>21.326087</td>\n",
       "    </tr>\n",
       "    <tr>\n",
       "      <th>Desviación estándar</th>\n",
       "      <td>18.279967</td>\n",
       "      <td>4.003507</td>\n",
       "      <td>2.415510</td>\n",
       "      <td>7.099886</td>\n",
       "      <td>5.261622</td>\n",
       "      <td>3.857656</td>\n",
       "    </tr>\n",
       "    <tr>\n",
       "      <th>Coeficiente alpha</th>\n",
       "      <td>0.884062</td>\n",
       "      <td>0.506060</td>\n",
       "      <td>0.329123</td>\n",
       "      <td>0.820030</td>\n",
       "      <td>0.659904</td>\n",
       "      <td>0.521891</td>\n",
       "    </tr>\n",
       "  </tbody>\n",
       "</table>\n",
       "</div>"
      ],
      "text/plain": [
       "                          Total  Ecuanimidad  Sentirse bien solo  \\\n",
       "Media                133.413043    18.836957           17.478261   \n",
       "Desviación estándar   18.279967     4.003507            2.415510   \n",
       "Coeficiente alpha      0.884062     0.506060            0.329123   \n",
       "\n",
       "                     Confianza en sí mismo  Perseverancia  \\\n",
       "Media                            37.858696      37.913043   \n",
       "Desviación estándar               7.099886       5.261622   \n",
       "Coeficiente alpha                 0.820030       0.659904   \n",
       "\n",
       "                     Satisfacción personal  \n",
       "Media                            21.326087  \n",
       "Desviación estándar               3.857656  \n",
       "Coeficiente alpha                 0.521891  "
      ]
     },
     "execution_count": 36,
     "metadata": {},
     "output_type": "execute_result"
    }
   ],
   "source": [
    "def generar_tabla_resumen(datos, nombres_columnas, indices_columnas):\n",
    "    diccionario = {}\n",
    "\n",
    "    for nombre_columna, indices in zip(nombres_columnas, indices_columnas):\n",
    "        # Calcular la media y desviación estándar\n",
    "        media = datos[nombre_columna].mean()\n",
    "        desviacion = datos[nombre_columna].std()\n",
    "\n",
    "        # Seleccionar las columnas relevantes\n",
    "        items = datos.iloc[:, indices]\n",
    "\n",
    "        # Calcular el coeficiente alpha de Cronbach\n",
    "        coeficiente_alpha, _ = pg.cronbach_alpha(data=items, ci=.99)\n",
    "\n",
    "        # Agregar los resultados al diccionario\n",
    "        diccionario[nombre_columna] = [media, desviacion, coeficiente_alpha]\n",
    "\n",
    "    # Crear la tabla resumen\n",
    "    tabla_resumen = pd.DataFrame(diccionario, index=['Media', 'Desviación estándar', 'Coeficiente alpha'])\n",
    "    return tabla_resumen\n",
    "\n",
    "# Definir nombres de las columnas y los índices de las columnas\n",
    "nombres_columnas = ['Total', 'Ecuanimidad', 'Sentirse bien solo',\n",
    "                    'Confianza en sí mismo', 'Perseverancia', 'Satisfacción personal']\n",
    "indices_columnas = [[8,9,10,11,12,13,14,15,16,17,18,19,20,21,22,23,24,25,26,27,28,29,30,31,32],\n",
    "                    [14, 15, 18, 19], [10, 12, 26],\n",
    "                    [13, 16, 17, 20, 24, 25, 31],\n",
    "                    [8, 9, 11, 21, 22, 27, 30],\n",
    "                    [23, 28, 29, 32]]\n",
    "\n",
    "# Utilizar la función para generar la tabla resumen\n",
    "tabla_resumen = generar_tabla_resumen(datos, nombres_columnas, indices_columnas)\n",
    "tabla_resumen"
   ]
  },
  {
   "cell_type": "markdown",
   "id": "496e0855",
   "metadata": {
    "id": "496e0855"
   },
   "source": [
    "## TABLA GÉNERO"
   ]
  },
  {
   "cell_type": "code",
   "execution_count": 37,
   "id": "bfffc192",
   "metadata": {
    "id": "bfffc192",
    "outputId": "e0b21b1b-3d75-45e6-b54e-cd65175b5389"
   },
   "outputs": [
    {
     "data": {
      "text/html": [
       "<div>\n",
       "<style scoped>\n",
       "    .dataframe tbody tr th:only-of-type {\n",
       "        vertical-align: middle;\n",
       "    }\n",
       "\n",
       "    .dataframe tbody tr th {\n",
       "        vertical-align: top;\n",
       "    }\n",
       "\n",
       "    .dataframe thead th {\n",
       "        text-align: right;\n",
       "    }\n",
       "</style>\n",
       "<table border=\"1\" class=\"dataframe\">\n",
       "  <thead>\n",
       "    <tr style=\"text-align: right;\">\n",
       "      <th></th>\n",
       "      <th>0</th>\n",
       "      <th>1</th>\n",
       "      <th>2</th>\n",
       "      <th>3</th>\n",
       "    </tr>\n",
       "  </thead>\n",
       "  <tbody>\n",
       "    <tr>\n",
       "      <th>0</th>\n",
       "      <td>131.75</td>\n",
       "      <td>20.07581</td>\n",
       "      <td>136.53125</td>\n",
       "      <td>14.08725</td>\n",
       "    </tr>\n",
       "  </tbody>\n",
       "</table>\n",
       "</div>"
      ],
      "text/plain": [
       "        0         1          2         3\n",
       "0  131.75  20.07581  136.53125  14.08725"
      ]
     },
     "execution_count": 37,
     "metadata": {},
     "output_type": "execute_result"
    }
   ],
   "source": [
    "lista_edad=['Femenino','Masculino']\n",
    "\n",
    "lista_TOTAL=[]\n",
    "\n",
    "for edad in lista_edad:\n",
    "    total_med = datos[datos['Género'] == edad]['Total'].mean()\n",
    "    total_std = datos[datos['Género'] == edad]['Total'].std()\n",
    "    lista_TOTAL.append(total_med)\n",
    "    lista_TOTAL.append(total_std)\n",
    "\n",
    "df = pd.DataFrame([lista_TOTAL])\n",
    "df.reset_index(drop=True, inplace=True)\n",
    "df"
   ]
  },
  {
   "cell_type": "markdown",
   "id": "2d6cddb5",
   "metadata": {
    "id": "2d6cddb5"
   },
   "source": [
    "## TABLA EDAD"
   ]
  },
  {
   "cell_type": "code",
   "execution_count": 38,
   "id": "607556e1",
   "metadata": {
    "id": "607556e1",
    "outputId": "98de940e-d852-4534-94e0-ba38c2857019"
   },
   "outputs": [
    {
     "data": {
      "text/html": [
       "<div>\n",
       "<style scoped>\n",
       "    .dataframe tbody tr th:only-of-type {\n",
       "        vertical-align: middle;\n",
       "    }\n",
       "\n",
       "    .dataframe tbody tr th {\n",
       "        vertical-align: top;\n",
       "    }\n",
       "\n",
       "    .dataframe thead th {\n",
       "        text-align: right;\n",
       "    }\n",
       "</style>\n",
       "<table border=\"1\" class=\"dataframe\">\n",
       "  <thead>\n",
       "    <tr style=\"text-align: right;\">\n",
       "      <th></th>\n",
       "      <th>0</th>\n",
       "      <th>1</th>\n",
       "      <th>2</th>\n",
       "      <th>3</th>\n",
       "      <th>4</th>\n",
       "      <th>5</th>\n",
       "      <th>6</th>\n",
       "      <th>7</th>\n",
       "      <th>8</th>\n",
       "      <th>9</th>\n",
       "    </tr>\n",
       "  </thead>\n",
       "  <tbody>\n",
       "    <tr>\n",
       "      <th>0</th>\n",
       "      <td>133.291667</td>\n",
       "      <td>14.993557</td>\n",
       "      <td>126.3</td>\n",
       "      <td>26.91984</td>\n",
       "      <td>137.555556</td>\n",
       "      <td>15.977415</td>\n",
       "      <td>132.615385</td>\n",
       "      <td>24.720229</td>\n",
       "      <td>137.583333</td>\n",
       "      <td>16.697623</td>\n",
       "    </tr>\n",
       "  </tbody>\n",
       "</table>\n",
       "</div>"
      ],
      "text/plain": [
       "            0          1      2         3           4          5           6  \\\n",
       "0  133.291667  14.993557  126.3  26.91984  137.555556  15.977415  132.615385   \n",
       "\n",
       "           7           8          9  \n",
       "0  24.720229  137.583333  16.697623  "
      ]
     },
     "execution_count": 38,
     "metadata": {},
     "output_type": "execute_result"
    }
   ],
   "source": [
    "lista_edad=['18 - 25','26 - 35','36 - 45','46 - 55','56 - 65']\n",
    "\n",
    "lista_TOTAL=[]\n",
    "\n",
    "for edad in lista_edad:\n",
    "    total_med = datos[datos['Edad'] == edad]['Total'].mean()\n",
    "    total_std = datos[datos['Edad'] == edad]['Total'].std()\n",
    "    lista_TOTAL.append(total_med)\n",
    "    lista_TOTAL.append(total_std)\n",
    "\n",
    "df = pd.DataFrame([lista_TOTAL])\n",
    "df.reset_index(drop=True, inplace=True)\n",
    "df"
   ]
  },
  {
   "cell_type": "markdown",
   "id": "aa046565",
   "metadata": {
    "id": "aa046565"
   },
   "source": [
    "## TABLA OCUPACIÓN ACTUAL"
   ]
  },
  {
   "cell_type": "code",
   "execution_count": 39,
   "id": "35821bda",
   "metadata": {
    "id": "35821bda",
    "outputId": "dbe10f17-6afb-41b6-831b-5529432ef4e3"
   },
   "outputs": [
    {
     "data": {
      "text/html": [
       "<div>\n",
       "<style scoped>\n",
       "    .dataframe tbody tr th:only-of-type {\n",
       "        vertical-align: middle;\n",
       "    }\n",
       "\n",
       "    .dataframe tbody tr th {\n",
       "        vertical-align: top;\n",
       "    }\n",
       "\n",
       "    .dataframe thead th {\n",
       "        text-align: right;\n",
       "    }\n",
       "</style>\n",
       "<table border=\"1\" class=\"dataframe\">\n",
       "  <thead>\n",
       "    <tr style=\"text-align: right;\">\n",
       "      <th></th>\n",
       "      <th>0</th>\n",
       "      <th>1</th>\n",
       "      <th>2</th>\n",
       "      <th>3</th>\n",
       "      <th>4</th>\n",
       "      <th>5</th>\n",
       "      <th>6</th>\n",
       "      <th>7</th>\n",
       "    </tr>\n",
       "  </thead>\n",
       "  <tbody>\n",
       "    <tr>\n",
       "      <th>0</th>\n",
       "      <td>132.576923</td>\n",
       "      <td>17.27929</td>\n",
       "      <td>133.241379</td>\n",
       "      <td>22.902987</td>\n",
       "      <td>135.909091</td>\n",
       "      <td>13.059968</td>\n",
       "      <td>131.533333</td>\n",
       "      <td>17.860038</td>\n",
       "    </tr>\n",
       "  </tbody>\n",
       "</table>\n",
       "</div>"
      ],
      "text/plain": [
       "            0         1           2          3           4          5  \\\n",
       "0  132.576923  17.27929  133.241379  22.902987  135.909091  13.059968   \n",
       "\n",
       "            6          7  \n",
       "0  131.533333  17.860038  "
      ]
     },
     "execution_count": 39,
     "metadata": {},
     "output_type": "execute_result"
    }
   ],
   "source": [
    "lista_edad=['Estudiante','Empleado','Estudiante + trabajador','Desempleado']\n",
    "lista_TOTAL=[]\n",
    "\n",
    "for edad in lista_edad:\n",
    "    total_med = datos[datos['Ocupación actual'] == edad]['Total'].mean()\n",
    "    total_std = datos[datos['Ocupación actual'] == edad]['Total'].std()\n",
    "    lista_TOTAL.append(total_med)\n",
    "    lista_TOTAL.append(total_std)\n",
    "\n",
    "df = pd.DataFrame([lista_TOTAL])\n",
    "df.reset_index(drop=True, inplace=True)\n",
    "df"
   ]
  },
  {
   "cell_type": "markdown",
   "id": "b3cba62d",
   "metadata": {
    "id": "b3cba62d"
   },
   "source": [
    "## TABLA NIVEL DE ESTUDIOS"
   ]
  },
  {
   "cell_type": "code",
   "execution_count": 40,
   "id": "25aebe9a",
   "metadata": {
    "id": "25aebe9a",
    "outputId": "2537cfa8-2ba8-4c91-fd52-770c45e42f11"
   },
   "outputs": [
    {
     "data": {
      "text/html": [
       "<div>\n",
       "<style scoped>\n",
       "    .dataframe tbody tr th:only-of-type {\n",
       "        vertical-align: middle;\n",
       "    }\n",
       "\n",
       "    .dataframe tbody tr th {\n",
       "        vertical-align: top;\n",
       "    }\n",
       "\n",
       "    .dataframe thead th {\n",
       "        text-align: right;\n",
       "    }\n",
       "</style>\n",
       "<table border=\"1\" class=\"dataframe\">\n",
       "  <thead>\n",
       "    <tr style=\"text-align: right;\">\n",
       "      <th></th>\n",
       "      <th>0</th>\n",
       "      <th>1</th>\n",
       "      <th>2</th>\n",
       "      <th>3</th>\n",
       "      <th>4</th>\n",
       "      <th>5</th>\n",
       "    </tr>\n",
       "  </thead>\n",
       "  <tbody>\n",
       "    <tr>\n",
       "      <th>0</th>\n",
       "      <td>133.684211</td>\n",
       "      <td>16.36749</td>\n",
       "      <td>131.44186</td>\n",
       "      <td>18.935105</td>\n",
       "      <td>136.066667</td>\n",
       "      <td>18.706321</td>\n",
       "    </tr>\n",
       "  </tbody>\n",
       "</table>\n",
       "</div>"
      ],
      "text/plain": [
       "            0         1          2          3           4          5\n",
       "0  133.684211  16.36749  131.44186  18.935105  136.066667  18.706321"
      ]
     },
     "execution_count": 40,
     "metadata": {},
     "output_type": "execute_result"
    }
   ],
   "source": [
    "lista_edad=['Obligatoria','Intermedia','Superior',]\n",
    "lista_TOTAL=[]\n",
    "\n",
    "for edad in lista_edad:\n",
    "    total_med = datos[datos['Nivel de estudios alcanzados 2'] == edad]['Total'].mean()\n",
    "    total_std = datos[datos['Nivel de estudios alcanzados 2'] == edad]['Total'].std()\n",
    "    lista_TOTAL.append(total_med)\n",
    "    lista_TOTAL.append(total_std)\n",
    "\n",
    "df = pd.DataFrame([lista_TOTAL])\n",
    "df.reset_index(drop=True, inplace=True)\n",
    "df"
   ]
  },
  {
   "cell_type": "markdown",
   "id": "e074b963",
   "metadata": {
    "id": "e074b963"
   },
   "source": [
    "## TABLA CARGO PROFESIONAL"
   ]
  },
  {
   "cell_type": "code",
   "execution_count": 41,
   "id": "8b39804c",
   "metadata": {
    "id": "8b39804c",
    "outputId": "8219d01f-f0e1-4106-c53a-e16274a1271b"
   },
   "outputs": [
    {
     "data": {
      "text/html": [
       "<div>\n",
       "<style scoped>\n",
       "    .dataframe tbody tr th:only-of-type {\n",
       "        vertical-align: middle;\n",
       "    }\n",
       "\n",
       "    .dataframe tbody tr th {\n",
       "        vertical-align: top;\n",
       "    }\n",
       "\n",
       "    .dataframe thead th {\n",
       "        text-align: right;\n",
       "    }\n",
       "</style>\n",
       "<table border=\"1\" class=\"dataframe\">\n",
       "  <thead>\n",
       "    <tr style=\"text-align: right;\">\n",
       "      <th></th>\n",
       "      <th>0</th>\n",
       "      <th>1</th>\n",
       "      <th>2</th>\n",
       "      <th>3</th>\n",
       "      <th>4</th>\n",
       "      <th>5</th>\n",
       "    </tr>\n",
       "  </thead>\n",
       "  <tbody>\n",
       "    <tr>\n",
       "      <th>0</th>\n",
       "      <td>133.921053</td>\n",
       "      <td>20.817588</td>\n",
       "      <td>136.833333</td>\n",
       "      <td>13.861873</td>\n",
       "      <td>123.0</td>\n",
       "      <td>NaN</td>\n",
       "    </tr>\n",
       "  </tbody>\n",
       "</table>\n",
       "</div>"
      ],
      "text/plain": [
       "            0          1           2          3      4   5\n",
       "0  133.921053  20.817588  136.833333  13.861873  123.0 NaN"
      ]
     },
     "execution_count": 41,
     "metadata": {},
     "output_type": "execute_result"
    }
   ],
   "source": [
    "lista_edad=['Empleado','Responsable','Autónomo']\n",
    "lista_TOTAL=[]\n",
    "\n",
    "for edad in lista_edad:\n",
    "    total_med = datos[datos['Cargo que realiza en su trabajo 2'] == edad]['Total'].mean()\n",
    "    total_std = datos[datos['Cargo que realiza en su trabajo 2'] == edad]['Total'].std()\n",
    "    lista_TOTAL.append(total_med)\n",
    "    lista_TOTAL.append(total_std)\n",
    "\n",
    "df = pd.DataFrame([lista_TOTAL])\n",
    "df.reset_index(drop=True, inplace=True)\n",
    "df"
   ]
  },
  {
   "cell_type": "markdown",
   "id": "a96d1b2f",
   "metadata": {
    "id": "a96d1b2f"
   },
   "source": [
    "# COMPARACIÓN DE MEDIAS CON TEST T-STUDENT O ANOVA"
   ]
  },
  {
   "cell_type": "markdown",
   "id": "faef5916",
   "metadata": {
    "id": "faef5916"
   },
   "source": [
    "De las diferencias entre medias observadas en las tablas anteriores se procede a realizar la prueba t de student para  estudiar si la diferencia observada entre las medias afectadas es significativa. También se aplicará ANOVA cuando se deban comparar más de dos grupos.\n",
    "\n",
    "Observando los resultados de las tablas anteriores destacaría:\n",
    "\n",
    "- Se observa una diferencia significativa entre el género masculino y femenino, aunque debemos recordar que esta variable está sesgada.\n",
    "- En la tabla referente a la edad se observa una variabilidad importante entre las medias de resiliencia de los individuos.\n",
    "- El aumento de la media de resiliencia total sobre la categoría de niveles de estudios superiores."
   ]
  },
  {
   "cell_type": "markdown",
   "id": "d738782f",
   "metadata": {
    "id": "d738782f"
   },
   "source": [
    "Para estudiar esta diferencia observada, primero se recurre a métodos paramétricos, específicamente a la prueba T de Student y ANOVA. Aquí podemos aplicar tanto el cálculo de intervalos de confianza para conocer entre qué valores se encuentra la diferencia real de las medias poblacionales como la prueba de hipótesis para determinar si la diferencia es significativa. En este caso, nos centraremos en la prueba de hipótesis.\n",
    "\n",
    "Las condiciones para poder calcular tanto intervalos como aplicar la prueba de hipótesis a la distribución T de Student o ANOVAson las siguientes:\n",
    "\n",
    "1. Normalidad: distribución de manera normal.\n",
    "2. Homogeneidad de la varianza (homocedasticidad): la varianza de ambas poblaciones comparadas debe ser igual.\n",
    "3. Independencia de las observaciones."
   ]
  },
  {
   "cell_type": "markdown",
   "id": "f6af3d23",
   "metadata": {
    "id": "f6af3d23"
   },
   "source": [
    "\n",
    "Consideraciones:\n",
    "\n",
    "- Dado que tenemos una prueba de hipótesis para verificar si las medias son iguales o diferentes, esto corresponde a una prueba de dos colas.\n",
    "- Además, consideraremos un intervalo de confianza del 95%, por lo que el alfa será de 0.025 en cada lado de la curva. También tenemos los grados de libertad correspondientes a N1 + N2 - 2."
   ]
  },
  {
   "cell_type": "markdown",
   "id": "6304db41",
   "metadata": {
    "id": "6304db41"
   },
   "source": [
    "En nuestro caso, aplica la prueba de hipótesis:\n",
    "- H0: Las medias de las dos muestras son iguales M0 = M1\n",
    "- H1: Las medias de las dos muestras son diferentes M0 != M1\n"
   ]
  },
  {
   "cell_type": "markdown",
   "id": "3b1cf691",
   "metadata": {
    "id": "3b1cf691"
   },
   "source": [
    "Se asume que existe independencia en las observaciones o individuos. Respecto a la normalidad y homocedasticidad se aplicaran los siguientes calculos para todas las observaciones analizadas:\n",
    "\n",
    "1. Normalidad: Komogorov-Smirnov\n",
    "- Ho: la distribución sigue una muestra normal.\n",
    "- H1: la distribución no sigue una muestra normal.\n",
    "\n",
    "2. Homocedasticidad: Levenne\n",
    "- H0: las muestras tienen varianzas poblacionales iguales S1 = S2\n",
    "- H1: las muestras tienen varianzas poblacionales diferentes S1 != S2"
   ]
  },
  {
   "cell_type": "markdown",
   "id": "1ddebf2c",
   "metadata": {
    "heading_collapsed": true,
    "id": "1ddebf2c"
   },
   "source": [
    "## T-STUDENT: GÉNERO"
   ]
  },
  {
   "cell_type": "markdown",
   "id": "500baec1",
   "metadata": {
    "hidden": true,
    "id": "500baec1"
   },
   "source": [
    "### Normalidad: Komogorov-Smirnov"
   ]
  },
  {
   "cell_type": "code",
   "execution_count": 42,
   "id": "6297bb1a",
   "metadata": {
    "colab": {
     "base_uri": "https://localhost:8080/"
    },
    "hidden": true,
    "id": "6297bb1a",
    "outputId": "59e79cbd-60c9-445a-c8b9-ea93454b2a6a"
   },
   "outputs": [
    {
     "name": "stdout",
     "output_type": "stream",
     "text": [
      "Resultados para total_mujeres:\n",
      "Estadístico: 0.1583662431057496, Valor p: 0.0881768055015012\n",
      "La muestra de mujeres sigue una distribución normal\n",
      "\n",
      "Resultados para total_hombres:\n",
      "Estadístico: 0.1019086388631506, Valor p: 0.8606077897901347\n",
      "La muestra de hombres sigue una distribución normal\n"
     ]
    }
   ],
   "source": [
    "total_mujeres = datos[datos['Género'] == 'Femenino']['Total']\n",
    "total_hombres = datos[datos['Género'] == 'Masculino']['Total']\n",
    "\n",
    "\n",
    "# Escalar las muestras utilizando StandardScaler\n",
    "scaler = StandardScaler()\n",
    "total_mujeres_scaled = scaler.fit_transform(total_mujeres.values.reshape(-1, 1)).flatten()\n",
    "total_hombres_scaled = scaler.fit_transform(total_hombres.values.reshape(-1, 1)).flatten()\n",
    "\n",
    "# Aplicar prueba KS a total_mujeres\n",
    "statistic_mujeres, pvalue_mujeres = stats.kstest(total_mujeres_scaled, 'norm')\n",
    "print(\"Resultados para total_mujeres:\")\n",
    "print(f\"Estadístico: {statistic_mujeres}, Valor p: {pvalue_mujeres}\")\n",
    "if pvalue_mujeres > 0.05:\n",
    "    print(\"La muestra de mujeres sigue una distribución normal\")\n",
    "else:\n",
    "    print(\"La muestra de mujeres no sigue una distribución normal\")\n",
    "\n",
    "# Aplicar prueba KS a total_hombres\n",
    "statistic_hombres, pvalue_hombres = stats.kstest(total_hombres_scaled, 'norm')\n",
    "print(\"\\nResultados para total_hombres:\")\n",
    "print(f\"Estadístico: {statistic_hombres}, Valor p: {pvalue_hombres}\")\n",
    "if pvalue_hombres > 0.05:\n",
    "    print(\"La muestra de hombres sigue una distribución normal\")\n",
    "else:\n",
    "    print(\"La muestra de hombres no sigue una distribución normal\")"
   ]
  },
  {
   "cell_type": "markdown",
   "id": "b9767ffa",
   "metadata": {
    "hidden": true,
    "id": "b9767ffa"
   },
   "source": [
    "### Homocedasticidad: Levenne"
   ]
  },
  {
   "cell_type": "code",
   "execution_count": 43,
   "id": "c6b5d717",
   "metadata": {
    "colab": {
     "base_uri": "https://localhost:8080/"
    },
    "hidden": true,
    "id": "c6b5d717",
    "outputId": "efae4faa-2870-4606-eceb-f25d736ba250"
   },
   "outputs": [
    {
     "name": "stdout",
     "output_type": "stream",
     "text": [
      "Valor crítico superior: 1.826884231130713\n",
      "Valor crítico inferior: 0.5205510144953603\n",
      "Estadístico de Levene: 1.0340288521350882\n",
      "Valor p: 0.31194012561304496\n",
      "No se puede rechazar la hipótesis nula. No hay suficiente evidencia para afirmar diferencias significativas en las varianzas.\n"
     ]
    }
   ],
   "source": [
    "submuestra1l = total_hombres.values\n",
    "submuestra2l = total_mujeres.values\n",
    "\n",
    "\n",
    "# Nivel de significancia (alfa)\n",
    "alfa = 0.05\n",
    "\n",
    "df_grupo1 = len(submuestra1l) - 1\n",
    "df_grupo2 = len(submuestra2l) - 1\n",
    "# Calcular los valores críticos\n",
    "valor_critico1le = np.percentile(np.random.f(df_grupo1, df_grupo2, size=10000), (1 - alfa / 2) * 100)\n",
    "valor_critico2le = np.percentile(np.random.f(df_grupo1, df_grupo2, size=10000), (alfa / 2) * 100)\n",
    "\n",
    "\n",
    "estadistico_levene, p_valor = levene(submuestra1l, submuestra2l)\n",
    "\n",
    "print(\"Valor crítico superior:\", valor_critico1le)\n",
    "print(\"Valor crítico inferior:\", valor_critico2le)\n",
    "\n",
    "print(\"Estadístico de Levene:\", estadistico_levene)\n",
    "print(\"Valor p:\", p_valor)\n",
    "\n",
    "# Comparar el p-valor con el nivel de significancia (por ejemplo, 0.05) para tomar decisiones\n",
    "nivel_significancia = 0.05\n",
    "if p_valor < nivel_significancia:\n",
    "    print(\"Rechazar la hipótesis nula. Hay evidencia de diferencias significativas en las varianzas.\")\n",
    "else:\n",
    "    print(\"No se puede rechazar la hipótesis nula. No hay suficiente evidencia para afirmar diferencias significativas en las varianzas.\")"
   ]
  },
  {
   "cell_type": "markdown",
   "id": "82d61639",
   "metadata": {
    "hidden": true,
    "id": "82d61639"
   },
   "source": [
    "Para la prueba de Levene el valor observado, 1.034 también se encuentra dentro de la zona de aprobación 0.519<F<1.816, por tanto, deberíamos sugerir que no existe suficiente evidencia para rechazar la hipótesis nula de que las muestras poseen varianzas poblaciones iguales S1=S2.\n",
    "\n",
    "Con esto podemos concluir que a un nivel de confianza del 95%, no existe evidencia estadística suficiente para rechazar la hipótesis nula, por tanto, aceptaríamos la condición de homocedasticidad. Destacar que el test de Levene pierde potencia al no tener asunción de normalidad."
   ]
  },
  {
   "cell_type": "markdown",
   "id": "a744ba88",
   "metadata": {
    "hidden": true,
    "id": "a744ba88"
   },
   "source": [
    "### T-STUDENT"
   ]
  },
  {
   "cell_type": "code",
   "execution_count": 44,
   "id": "e2b985a4",
   "metadata": {
    "colab": {
     "base_uri": "https://localhost:8080/"
    },
    "hidden": true,
    "id": "e2b985a4",
    "outputId": "0fa3c4f0-b752-4eaa-854e-b46769ee264c"
   },
   "outputs": [
    {
     "name": "stdout",
     "output_type": "stream",
     "text": [
      "la zona de aceptacion para la prueba es : -1.986674540703768 , 1.9866745407037676\n",
      "el valor critico de T es : 0.06362454901991701\n"
     ]
    }
   ],
   "source": [
    "n1=len(total_hombres)\n",
    "n2=len(total_mujeres)\n",
    "grados_libertad = n1+n2-2\n",
    "diferencia_medias=total_hombres.mean()-total_mujeres.mean()\n",
    "\n",
    "s1=np.var(total_hombres)\n",
    "s2=np.var(total_mujeres)\n",
    "error_standar  = mt.sqrt((((n1*mt.pow(s1,2)+n2*mt.pow(s2,2))*((1/n1)+(1/n2)))/(grados_libertad)))\n",
    "\n",
    "from scipy.stats import t\n",
    "#calcularemos los valores cirticos correspondeintes a la distribucion T\n",
    "alfa = 0.05\n",
    "alfa_medios = alfa/2\n",
    "\n",
    "lim_sup = t.ppf(1-alfa_medios,grados_libertad)\n",
    "lim_inf = t.ppf(alfa_medios,grados_libertad)\n",
    "\n",
    "print(\"la zona de aceptacion para la prueba es :\",lim_inf,\",\",lim_sup)\n",
    "\n",
    "t_observado= float(diferencia_medias)/(error_standar)\n",
    "\n",
    "print(\"el valor critico de T es :\", t_observado)"
   ]
  },
  {
   "cell_type": "code",
   "execution_count": 45,
   "id": "e1f34cb2",
   "metadata": {
    "colab": {
     "base_uri": "https://localhost:8080/",
     "height": 0
    },
    "hidden": true,
    "id": "e1f34cb2",
    "outputId": "8713d1a7-8af9-411e-adb2-5b2ad40d84f8"
   },
   "outputs": [
    {
     "data": {
      "image/png": "[encoded data removed]",
      "text/plain": [
       "<Figure size 640x480 with 1 Axes>"
      ]
     },
     "metadata": {},
     "output_type": "display_data"
    }
   ],
   "source": [
    "# Definir el rango de valores de t\n",
    "t_values = np.linspace(-6, 6, 1000)\n",
    "\n",
    "# Calcular la distribución t\n",
    "t_distribucion = t.pdf(t_values, grados_libertad)\n",
    "\n",
    "# Graficar la distribución t\n",
    "plt.plot(t_values, t_distribucion, label='Distribución t')\n",
    "\n",
    "# Graficar el valor crítico y el valor t observado\n",
    "plt.vlines(lim_inf, 0, t.pdf(lim_inf, grados_libertad), colors='r', label='Valor Crítico 0.025')\n",
    "plt.vlines(lim_sup, 0, t.pdf(lim_sup, grados_libertad), colors='r', label='Valor Crítico 0.950')\n",
    "\n",
    "plt.vlines( 0.06362, 0.05, t.pdf( 0.06362, grados_libertad), colors='g', label='Valor t Observado')\n",
    "\n",
    "# Configurar la leyenda y etiquetas\n",
    "plt.legend()\n",
    "plt.xlabel('Valor t')\n",
    "plt.ylabel('Densidad de Probabilidad')\n",
    "plt.title('Distribución t con valor crítico y valor t observado')\n",
    "\n",
    "plt.show()"
   ]
  },
  {
   "cell_type": "markdown",
   "id": "b57ec58c",
   "metadata": {
    "hidden": true,
    "id": "b57ec58c"
   },
   "source": [
    "No podemos rechazar la hipotesis nula que las medias de resiliencia de ambas muestran son iguales dado que el valor t observado se encuentra dentro del intervalo de aprobación. Aqui tenemos un desabalanceo importante de muestras con mayor cantidad sobre mujeres y esto reduce la potencia del test por tanto podriamos obviar una diferencia verdadera si realmente existe."
   ]
  },
  {
   "cell_type": "markdown",
   "id": "534e2fab",
   "metadata": {
    "id": "534e2fab"
   },
   "source": [
    "## ANOVA: EDAD"
   ]
  },
  {
   "cell_type": "markdown",
   "id": "f1f25164",
   "metadata": {
    "id": "f1f25164"
   },
   "source": [
    "### Normalidad: Komogorov-Smirnov"
   ]
  },
  {
   "cell_type": "code",
   "execution_count": 46,
   "id": "eafd6d6d",
   "metadata": {
    "colab": {
     "base_uri": "https://localhost:8080/"
    },
    "id": "eafd6d6d",
    "outputId": "9db0e44e-baad-49b8-e4ee-a1df82423a04"
   },
   "outputs": [
    {
     "name": "stdout",
     "output_type": "stream",
     "text": [
      "Resultados para el rango de edad 18 - 25:\n",
      "Estadístico KS: 0.17965783600726198, Valor p: 0.07932544040389589\n",
      "La muestra de 18 - 25 sigue una distribución normal\n",
      "\n",
      "Resultados para el rango de edad 26 - 35:\n",
      "Estadístico KS: 0.20417518032364734, Valor p: 0.7270746873741345\n",
      "La muestra de 26 - 35 sigue una distribución normal\n",
      "\n",
      "Resultados para el rango de edad 36 - 45:\n",
      "Estadístico KS: 0.2211623726263774, Valor p: 0.6927217207413292\n",
      "La muestra de 36 - 45 sigue una distribución normal\n",
      "\n",
      "Resultados para el rango de edad 46 - 55:\n",
      "Estadístico KS: 0.1736074398091576, Valor p: 0.7680404347350662\n",
      "La muestra de 46 - 55 sigue una distribución normal\n",
      "\n",
      "Resultados para el rango de edad 56 - 65:\n",
      "Estadístico KS: 0.15250513232723434, Valor p: 0.903813034717978\n",
      "La muestra de 56 - 65 sigue una distribución normal\n",
      "\n"
     ]
    }
   ],
   "source": [
    "def prueba_ks_edades(datos, edad):\n",
    "\n",
    "    # Obtener la muestra para el rango de edad actual\n",
    "    muestra = datos[datos['Edad'] == edad]['Total']\n",
    "\n",
    "    # Escalar la muestra utilizando StandardScaler\n",
    "    scaler = StandardScaler()\n",
    "    muestra_scaled = scaler.fit_transform(muestra.values.reshape(-1, 1)).flatten()\n",
    "\n",
    "    # Aplicar prueba KS a la muestra\n",
    "    statistic, pvalue = stats.kstest(muestra_scaled, 'norm')\n",
    "\n",
    "    # Imprimir los resultados\n",
    "    print(f\"Resultados para el rango de edad {edad}:\")\n",
    "    print(f\"Estadístico KS: {statistic}, Valor p: {pvalue}\")\n",
    "    if pvalue > 0.05:\n",
    "        print(f\"La muestra de {edad} sigue una distribución normal\")\n",
    "    else:\n",
    "        print(f\"La muestra de {edad} no sigue una distribución normal\")\n",
    "    print()\n",
    "\n",
    "rangos_edad = ['18 - 25', '26 - 35', '36 - 45', '46 - 55', '56 - 65']\n",
    "\n",
    "for rango_edad in rangos_edad:\n",
    "    prueba_ks_edades(datos, rango_edad)"
   ]
  },
  {
   "cell_type": "markdown",
   "id": "55a52c52",
   "metadata": {
    "id": "55a52c52"
   },
   "source": [
    "### Homocedasticidad: Levenne\n"
   ]
  },
  {
   "cell_type": "code",
   "execution_count": 47,
   "id": "9d10892b",
   "metadata": {
    "colab": {
     "base_uri": "https://localhost:8080/"
    },
    "id": "9d10892b",
    "outputId": "fd9f935e-538e-493f-9268-6f99bd2be420"
   },
   "outputs": [
    {
     "name": "stdout",
     "output_type": "stream",
     "text": [
      "Estadístico de Levene: 1.0925038260018411\n",
      "Valor p: 0.36538304639171115\n",
      "No se puede rechazar la hipótesis nula. No hay suficiente evidencia para afirmar diferencias significativas en las varianzas.\n"
     ]
    }
   ],
   "source": [
    "total_18_25 = datos[datos['Edad'] == '18 - 25']['Total']\n",
    "total_26_35 = datos[datos['Edad'] == '26 - 35']['Total']\n",
    "total_36_45 = datos[datos['Edad'] == '36 - 45']['Total']\n",
    "total_46_55 = datos[datos['Edad'] == '46 - 55']['Total']\n",
    "total_56_65 = datos[datos['Edad'] == '56 - 65']['Total']\n",
    "\n",
    "submuestra1l = total_18_25.values\n",
    "submuestra2l = total_26_35.values\n",
    "submuestra3l = total_36_45.values\n",
    "submuestra4l = total_46_55.values\n",
    "submuestra5l = total_56_65.values\n",
    "\n",
    "# Aplicar la prueba de Levene\n",
    "estadistico_levene, p_valor = levene(submuestra1l, submuestra2l, submuestra3l, submuestra4l, submuestra5l)\n",
    "\n",
    "print(\"Estadístico de Levene:\", estadistico_levene)\n",
    "print(\"Valor p:\", p_valor)\n",
    "\n",
    "# Comparar el p-valor con el nivel de significancia (por ejemplo, 0.05) para tomar decisiones\n",
    "nivel_significancia = 0.05\n",
    "if p_valor < nivel_significancia:\n",
    "    print(\"Rechazar la hipótesis nula. Hay evidencia de diferencias significativas en las varianzas.\")\n",
    "else:\n",
    "    print(\"No se puede rechazar la hipótesis nula. No hay suficiente evidencia para afirmar diferencias significativas en las varianzas.\")"
   ]
  },
  {
   "cell_type": "markdown",
   "id": "91f8ad6b",
   "metadata": {
    "id": "91f8ad6b"
   },
   "source": [
    "### ANOVA"
   ]
  },
  {
   "cell_type": "code",
   "execution_count": 48,
   "id": "52005cc3",
   "metadata": {
    "colab": {
     "base_uri": "https://localhost:8080/",
     "height": 0
    },
    "id": "52005cc3",
    "outputId": "68fe91aa-10f8-4859-f776-644796cb9cb4"
   },
   "outputs": [
    {
     "data": {
      "text/html": [
       "<div>\n",
       "<style scoped>\n",
       "    .dataframe tbody tr th:only-of-type {\n",
       "        vertical-align: middle;\n",
       "    }\n",
       "\n",
       "    .dataframe tbody tr th {\n",
       "        vertical-align: top;\n",
       "    }\n",
       "\n",
       "    .dataframe thead th {\n",
       "        text-align: right;\n",
       "    }\n",
       "</style>\n",
       "<table border=\"1\" class=\"dataframe\">\n",
       "  <thead>\n",
       "    <tr style=\"text-align: right;\">\n",
       "      <th></th>\n",
       "      <th>Source</th>\n",
       "      <th>SS</th>\n",
       "      <th>DF</th>\n",
       "      <th>MS</th>\n",
       "      <th>F</th>\n",
       "      <th>p-unc</th>\n",
       "      <th>np2</th>\n",
       "    </tr>\n",
       "  </thead>\n",
       "  <tbody>\n",
       "    <tr>\n",
       "      <th>0</th>\n",
       "      <td>Edad</td>\n",
       "      <td>878.071869</td>\n",
       "      <td>4</td>\n",
       "      <td>219.517967</td>\n",
       "      <td>0.646729</td>\n",
       "      <td>0.630678</td>\n",
       "      <td>0.028876</td>\n",
       "    </tr>\n",
       "    <tr>\n",
       "      <th>1</th>\n",
       "      <td>Within</td>\n",
       "      <td>29530.232479</td>\n",
       "      <td>87</td>\n",
       "      <td>339.427960</td>\n",
       "      <td>NaN</td>\n",
       "      <td>NaN</td>\n",
       "      <td>NaN</td>\n",
       "    </tr>\n",
       "  </tbody>\n",
       "</table>\n",
       "</div>"
      ],
      "text/plain": [
       "   Source            SS  DF          MS         F     p-unc       np2\n",
       "0    Edad    878.071869   4  219.517967  0.646729  0.630678  0.028876\n",
       "1  Within  29530.232479  87  339.427960       NaN       NaN       NaN"
      ]
     },
     "execution_count": 48,
     "metadata": {},
     "output_type": "execute_result"
    }
   ],
   "source": [
    "pg.anova(data=datos,dv='Total',between='Edad',detailed=True)"
   ]
  },
  {
   "cell_type": "markdown",
   "id": "1844eefe",
   "metadata": {
    "id": "1844eefe"
   },
   "source": [
    "F-value: El valor F es 0.646729, lo que sugiere que las diferencias entre los grupos en términos de edad no son grandes.\n",
    "p-value: El valor p es 0.630678, que es mayor que 0.05. Esto indica que no hay diferencias significativas entre los grupos en términos de edad.\n",
    "np2 (Eta squared): El tamaño del efecto es 0.028876, lo que sugiere un efecto muy pequeño de la variable \"Edad\" sobre la variabilidad de las puntuaciones.\n",
    "En resumen, el ANOVA no sugiere que haya diferencias significativas entre los grupos basadas en la variable \"Edad\", y la variabilidad explicada por esta variable es bastante baja. Esto implica que la edad no tiene un impacto significativo en las puntuaciones analizadas."
   ]
  },
  {
   "cell_type": "markdown",
   "id": "29f4a4ca",
   "metadata": {
    "id": "29f4a4ca"
   },
   "source": [
    "## ANOVA NIVEL ESTUDIOS"
   ]
  },
  {
   "cell_type": "markdown",
   "id": "573tTGHktvD2",
   "metadata": {
    "id": "573tTGHktvD2"
   },
   "source": [
    "### Normalidad: Komogorov-Smirnov"
   ]
  },
  {
   "cell_type": "code",
   "execution_count": 49,
   "id": "Yz9NOrsBulaS",
   "metadata": {
    "colab": {
     "base_uri": "https://localhost:8080/"
    },
    "id": "Yz9NOrsBulaS",
    "outputId": "94e9901d-9c66-44d9-af2d-e46964d1acc6"
   },
   "outputs": [
    {
     "data": {
      "text/plain": [
       "array(['Superior', 'Intermedia', 'Obligatoria'], dtype=object)"
      ]
     },
     "execution_count": 49,
     "metadata": {},
     "output_type": "execute_result"
    }
   ],
   "source": [
    "datos['Nivel de estudios alcanzados 2'].unique()"
   ]
  },
  {
   "cell_type": "code",
   "execution_count": 50,
   "id": "_UxRcX5Gt-E_",
   "metadata": {
    "colab": {
     "base_uri": "https://localhost:8080/"
    },
    "id": "_UxRcX5Gt-E_",
    "outputId": "602811d2-ddda-4e7f-9c54-fa87c5d88563"
   },
   "outputs": [
    {
     "name": "stdout",
     "output_type": "stream",
     "text": [
      "Resultados para el rango de edad Superior:\n",
      "Estadístico KS: 0.20045397796226255, Valor p: 0.15619045693618339\n",
      "La muestra de Superior sigue una distribución normal\n",
      "\n",
      "Resultados para el rango de edad Intermedia:\n",
      "Estadístico KS: 0.09925389973033433, Valor p: 0.7535683949188027\n",
      "La muestra de Intermedia sigue una distribución normal\n",
      "\n",
      "Resultados para el rango de edad Obligatoria:\n",
      "Estadístico KS: 0.23834730261310183, Valor p: 0.1960980137933992\n",
      "La muestra de Obligatoria sigue una distribución normal\n",
      "\n"
     ]
    }
   ],
   "source": [
    "def prueba_ks_nivel(datos, nivel):\n",
    "\n",
    "    # Obtener la muestra para el rango de edad actual\n",
    "    muestra = datos[datos['Nivel de estudios alcanzados 2'] == nivel]['Total']\n",
    "\n",
    "    # Escalar la muestra utilizando StandardScaler\n",
    "    scaler = StandardScaler()\n",
    "    muestra_scaled = scaler.fit_transform(muestra.values.reshape(-1, 1)).flatten()\n",
    "\n",
    "    # Aplicar prueba KS a la muestra\n",
    "    statistic, pvalue = stats.kstest(muestra_scaled, 'norm')\n",
    "\n",
    "    # Imprimir los resultados\n",
    "    print(f\"Resultados para el rango de edad {nivel}:\")\n",
    "    print(f\"Estadístico KS: {statistic}, Valor p: {pvalue}\")\n",
    "    if pvalue > 0.05:\n",
    "        print(f\"La muestra de {nivel} sigue una distribución normal\")\n",
    "    else:\n",
    "        print(f\"La muestra de {nivel} no sigue una distribución normal\")\n",
    "    print()\n",
    "\n",
    "rangos_nivel = ['Superior', 'Intermedia', 'Obligatoria']\n",
    "\n",
    "for rango_nivel in rangos_nivel:\n",
    "    prueba_ks_nivel(datos, rango_nivel)"
   ]
  },
  {
   "cell_type": "markdown",
   "id": "_jkSMdd9t5Gm",
   "metadata": {
    "id": "_jkSMdd9t5Gm"
   },
   "source": [
    "### Homocedasticidad: Levenne\n"
   ]
  },
  {
   "cell_type": "code",
   "execution_count": 51,
   "id": "_f6SMPiHt-pm",
   "metadata": {
    "colab": {
     "base_uri": "https://localhost:8080/"
    },
    "id": "_f6SMPiHt-pm",
    "outputId": "13abc8bf-01b8-453c-ad9d-8968ab05bedc"
   },
   "outputs": [
    {
     "name": "stdout",
     "output_type": "stream",
     "text": [
      "Estadístico de Levene: 0.4266133081904546\n",
      "Valor p: 0.6540435412565304\n",
      "No se puede rechazar la hipótesis nula. No hay suficiente evidencia para afirmar diferencias significativas en las varianzas.\n"
     ]
    }
   ],
   "source": [
    "total_Superior = datos[datos['Nivel de estudios alcanzados 2'] == 'Superior']['Total']\n",
    "total_Intermedia = datos[datos['Nivel de estudios alcanzados 2'] == 'Intermedia']['Total']\n",
    "total_Obligatoria = datos[datos['Nivel de estudios alcanzados 2'] == 'Obligatoria']['Total']\n",
    "\n",
    "submuestra1l = total_Superior.values\n",
    "submuestra2l = total_Intermedia.values\n",
    "submuestra3l = total_Obligatoria.values\n",
    "\n",
    "\n",
    "# Aplicar la prueba de Levene\n",
    "estadistico_levene, p_valor = levene(submuestra1l, submuestra2l, submuestra3l)\n",
    "\n",
    "print(\"Estadístico de Levene:\", estadistico_levene)\n",
    "print(\"Valor p:\", p_valor)\n",
    "\n",
    "# Comparar el p-valor con el nivel de significancia (por ejemplo, 0.05) para tomar decisiones\n",
    "nivel_significancia = 0.05\n",
    "if p_valor < nivel_significancia:\n",
    "    print(\"Rechazar la hipótesis nula. Hay evidencia de diferencias significativas en las varianzas.\")\n",
    "else:\n",
    "    print(\"No se puede rechazar la hipótesis nula. No hay suficiente evidencia para afirmar diferencias significativas en las varianzas.\")"
   ]
  },
  {
   "cell_type": "markdown",
   "id": "xnIGq6DNtrll",
   "metadata": {
    "id": "xnIGq6DNtrll"
   },
   "source": [
    "### ANOVA"
   ]
  },
  {
   "cell_type": "code",
   "execution_count": 52,
   "id": "3027d38f",
   "metadata": {
    "colab": {
     "base_uri": "https://localhost:8080/",
     "height": 0
    },
    "id": "3027d38f",
    "outputId": "a1806625-22c9-4b59-d902-bb3e72ae8e44"
   },
   "outputs": [
    {
     "data": {
      "text/html": [
       "<div>\n",
       "<style scoped>\n",
       "    .dataframe tbody tr th:only-of-type {\n",
       "        vertical-align: middle;\n",
       "    }\n",
       "\n",
       "    .dataframe tbody tr th {\n",
       "        vertical-align: top;\n",
       "    }\n",
       "\n",
       "    .dataframe thead th {\n",
       "        text-align: right;\n",
       "    }\n",
       "</style>\n",
       "<table border=\"1\" class=\"dataframe\">\n",
       "  <thead>\n",
       "    <tr style=\"text-align: right;\">\n",
       "      <th></th>\n",
       "      <th>Source</th>\n",
       "      <th>SS</th>\n",
       "      <th>DF</th>\n",
       "      <th>MS</th>\n",
       "      <th>F</th>\n",
       "      <th>p-unc</th>\n",
       "      <th>np2</th>\n",
       "    </tr>\n",
       "  </thead>\n",
       "  <tbody>\n",
       "    <tr>\n",
       "      <th>0</th>\n",
       "      <td>Nivel de estudios alcanzados 2</td>\n",
       "      <td>379.727767</td>\n",
       "      <td>2</td>\n",
       "      <td>189.863883</td>\n",
       "      <td>0.562727</td>\n",
       "      <td>0.571667</td>\n",
       "      <td>0.012488</td>\n",
       "    </tr>\n",
       "    <tr>\n",
       "      <th>1</th>\n",
       "      <td>Within</td>\n",
       "      <td>30028.576581</td>\n",
       "      <td>89</td>\n",
       "      <td>337.399737</td>\n",
       "      <td>NaN</td>\n",
       "      <td>NaN</td>\n",
       "      <td>NaN</td>\n",
       "    </tr>\n",
       "  </tbody>\n",
       "</table>\n",
       "</div>"
      ],
      "text/plain": [
       "                           Source            SS  DF          MS         F  \\\n",
       "0  Nivel de estudios alcanzados 2    379.727767   2  189.863883  0.562727   \n",
       "1                          Within  30028.576581  89  337.399737       NaN   \n",
       "\n",
       "      p-unc       np2  \n",
       "0  0.571667  0.012488  \n",
       "1       NaN       NaN  "
      ]
     },
     "execution_count": 52,
     "metadata": {},
     "output_type": "execute_result"
    }
   ],
   "source": [
    "pg.anova(data=datos,dv='Total',between='Nivel de estudios alcanzados 2',detailed=True)"
   ]
  }
 ],
 "metadata": {
  "colab": {
   "collapsed_sections": [
    "3b51638f",
    "e4ceba8a",
    "100a6c0e",
    "ba52265d",
    "13396a2d",
    "afca4896",
    "67e53960",
    "1b0abf6d",
    "aeace78c",
    "1dd11e62",
    "1ddebf2c",
    "500baec1",
    "b9767ffa",
    "a744ba88",
    "534e2fab",
    "f1f25164",
    "55a52c52",
    "91f8ad6b",
    "29f4a4ca",
    "573tTGHktvD2",
    "_jkSMdd9t5Gm",
    "xnIGq6DNtrll"
   ],
   "provenance": []
  },
  "kernelspec": {
   "display_name": "Python 3 (ipykernel)",
   "language": "python",
   "name": "python3"
  },
  "language_info": {
   "codemirror_mode": {
    "name": "ipython",
    "version": 3
   },
   "file_extension": ".py",
   "mimetype": "text/x-python",
   "name": "python",
   "nbconvert_exporter": "python",
   "pygments_lexer": "ipython3",
   "version": "3.10.13"
  }
 },
 "nbformat": 4,
 "nbformat_minor": 5
}
